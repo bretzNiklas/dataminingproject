{
 "nbformat": 4,
 "nbformat_minor": 0,
 "metadata": {
  "colab": {
   "provenance": []
  },
  "kernelspec": {
   "name": "python3",
   "display_name": "Python 3 (ipykernel)",
   "language": "python"
  },
  "language_info": {
   "name": "python"
  }
 },
 "cells": [
  {
   "cell_type": "code",
   "source": [],
   "metadata": {
    "colab": {
     "base_uri": "https://localhost:8080/"
    },
    "id": "FcOkU6sZ5AK0",
    "outputId": "9236b1c3-a45d-474f-a35b-8a53e2ab78bf",
    "ExecuteTime": {
     "end_time": "2024-06-07T13:12:11.555227Z",
     "start_time": "2024-06-07T13:12:11.550135Z"
    }
   },
   "outputs": [],
   "execution_count": 1
  },
  {
   "cell_type": "code",
   "source": [
    "import pandas as pd\n",
    "\n",
    "import os\n",
    "\n",
    "print(os.getcwd())\n",
    "\n",
    "path_to_csv = \"../Video_Games_Sales_as_at_22_Dec_2016.csv\"\n",
    "df_vg_sales = pd.read_csv(path_to_csv)"
   ],
   "metadata": {
    "id": "IWUsJqkI5-jF",
    "ExecuteTime": {
     "end_time": "2024-06-07T13:12:12.559699Z",
     "start_time": "2024-06-07T13:12:11.759811Z"
    }
   },
   "outputs": [
    {
     "name": "stdout",
     "output_type": "stream",
     "text": [
      "C:\\Users\\qwert\\PycharmProjects\\dataminingproject\\gradient_boost_regression\n"
     ]
    }
   ],
   "execution_count": 2
  },
  {
   "cell_type": "markdown",
   "source": [
    "**Let's have a look at the dataset**"
   ],
   "metadata": {
    "id": "vUUl95l99jIu"
   }
  },
  {
   "cell_type": "code",
   "source": [
    "df_vg_sales.head(10)"
   ],
   "metadata": {
    "colab": {
     "base_uri": "https://localhost:8080/",
     "height": 661
    },
    "id": "IBZPPtRp6Yrg",
    "outputId": "f4764efc-a465-467d-fa98-34b915900fb6",
    "ExecuteTime": {
     "end_time": "2024-06-07T13:12:12.599828Z",
     "start_time": "2024-06-07T13:12:12.559699Z"
    }
   },
   "outputs": [
    {
     "data": {
      "text/plain": [
       "                        Name Platform  Year_of_Release         Genre  \\\n",
       "0                 Wii Sports      Wii           2006.0        Sports   \n",
       "1          Super Mario Bros.      NES           1985.0      Platform   \n",
       "2             Mario Kart Wii      Wii           2008.0        Racing   \n",
       "3          Wii Sports Resort      Wii           2009.0        Sports   \n",
       "4   Pokemon Red/Pokemon Blue       GB           1996.0  Role-Playing   \n",
       "5                     Tetris       GB           1989.0        Puzzle   \n",
       "6      New Super Mario Bros.       DS           2006.0      Platform   \n",
       "7                   Wii Play      Wii           2006.0          Misc   \n",
       "8  New Super Mario Bros. Wii      Wii           2009.0      Platform   \n",
       "9                  Duck Hunt      NES           1984.0       Shooter   \n",
       "\n",
       "  Publisher  NA_Sales  EU_Sales  JP_Sales  Other_Sales  Global_Sales  \\\n",
       "0  Nintendo     41.36     28.96      3.77         8.45         82.53   \n",
       "1  Nintendo     29.08      3.58      6.81         0.77         40.24   \n",
       "2  Nintendo     15.68     12.76      3.79         3.29         35.52   \n",
       "3  Nintendo     15.61     10.93      3.28         2.95         32.77   \n",
       "4  Nintendo     11.27      8.89     10.22         1.00         31.37   \n",
       "5  Nintendo     23.20      2.26      4.22         0.58         30.26   \n",
       "6  Nintendo     11.28      9.14      6.50         2.88         29.80   \n",
       "7  Nintendo     13.96      9.18      2.93         2.84         28.92   \n",
       "8  Nintendo     14.44      6.94      4.70         2.24         28.32   \n",
       "9  Nintendo     26.93      0.63      0.28         0.47         28.31   \n",
       "\n",
       "   Critic_Score  Critic_Count User_Score  User_Count Developer Rating  \n",
       "0          76.0          51.0          8       322.0  Nintendo      E  \n",
       "1           NaN           NaN        NaN         NaN       NaN    NaN  \n",
       "2          82.0          73.0        8.3       709.0  Nintendo      E  \n",
       "3          80.0          73.0          8       192.0  Nintendo      E  \n",
       "4           NaN           NaN        NaN         NaN       NaN    NaN  \n",
       "5           NaN           NaN        NaN         NaN       NaN    NaN  \n",
       "6          89.0          65.0        8.5       431.0  Nintendo      E  \n",
       "7          58.0          41.0        6.6       129.0  Nintendo      E  \n",
       "8          87.0          80.0        8.4       594.0  Nintendo      E  \n",
       "9           NaN           NaN        NaN         NaN       NaN    NaN  "
      ],
      "text/html": [
       "<div>\n",
       "<style scoped>\n",
       "    .dataframe tbody tr th:only-of-type {\n",
       "        vertical-align: middle;\n",
       "    }\n",
       "\n",
       "    .dataframe tbody tr th {\n",
       "        vertical-align: top;\n",
       "    }\n",
       "\n",
       "    .dataframe thead th {\n",
       "        text-align: right;\n",
       "    }\n",
       "</style>\n",
       "<table border=\"1\" class=\"dataframe\">\n",
       "  <thead>\n",
       "    <tr style=\"text-align: right;\">\n",
       "      <th></th>\n",
       "      <th>Name</th>\n",
       "      <th>Platform</th>\n",
       "      <th>Year_of_Release</th>\n",
       "      <th>Genre</th>\n",
       "      <th>Publisher</th>\n",
       "      <th>NA_Sales</th>\n",
       "      <th>EU_Sales</th>\n",
       "      <th>JP_Sales</th>\n",
       "      <th>Other_Sales</th>\n",
       "      <th>Global_Sales</th>\n",
       "      <th>Critic_Score</th>\n",
       "      <th>Critic_Count</th>\n",
       "      <th>User_Score</th>\n",
       "      <th>User_Count</th>\n",
       "      <th>Developer</th>\n",
       "      <th>Rating</th>\n",
       "    </tr>\n",
       "  </thead>\n",
       "  <tbody>\n",
       "    <tr>\n",
       "      <th>0</th>\n",
       "      <td>Wii Sports</td>\n",
       "      <td>Wii</td>\n",
       "      <td>2006.0</td>\n",
       "      <td>Sports</td>\n",
       "      <td>Nintendo</td>\n",
       "      <td>41.36</td>\n",
       "      <td>28.96</td>\n",
       "      <td>3.77</td>\n",
       "      <td>8.45</td>\n",
       "      <td>82.53</td>\n",
       "      <td>76.0</td>\n",
       "      <td>51.0</td>\n",
       "      <td>8</td>\n",
       "      <td>322.0</td>\n",
       "      <td>Nintendo</td>\n",
       "      <td>E</td>\n",
       "    </tr>\n",
       "    <tr>\n",
       "      <th>1</th>\n",
       "      <td>Super Mario Bros.</td>\n",
       "      <td>NES</td>\n",
       "      <td>1985.0</td>\n",
       "      <td>Platform</td>\n",
       "      <td>Nintendo</td>\n",
       "      <td>29.08</td>\n",
       "      <td>3.58</td>\n",
       "      <td>6.81</td>\n",
       "      <td>0.77</td>\n",
       "      <td>40.24</td>\n",
       "      <td>NaN</td>\n",
       "      <td>NaN</td>\n",
       "      <td>NaN</td>\n",
       "      <td>NaN</td>\n",
       "      <td>NaN</td>\n",
       "      <td>NaN</td>\n",
       "    </tr>\n",
       "    <tr>\n",
       "      <th>2</th>\n",
       "      <td>Mario Kart Wii</td>\n",
       "      <td>Wii</td>\n",
       "      <td>2008.0</td>\n",
       "      <td>Racing</td>\n",
       "      <td>Nintendo</td>\n",
       "      <td>15.68</td>\n",
       "      <td>12.76</td>\n",
       "      <td>3.79</td>\n",
       "      <td>3.29</td>\n",
       "      <td>35.52</td>\n",
       "      <td>82.0</td>\n",
       "      <td>73.0</td>\n",
       "      <td>8.3</td>\n",
       "      <td>709.0</td>\n",
       "      <td>Nintendo</td>\n",
       "      <td>E</td>\n",
       "    </tr>\n",
       "    <tr>\n",
       "      <th>3</th>\n",
       "      <td>Wii Sports Resort</td>\n",
       "      <td>Wii</td>\n",
       "      <td>2009.0</td>\n",
       "      <td>Sports</td>\n",
       "      <td>Nintendo</td>\n",
       "      <td>15.61</td>\n",
       "      <td>10.93</td>\n",
       "      <td>3.28</td>\n",
       "      <td>2.95</td>\n",
       "      <td>32.77</td>\n",
       "      <td>80.0</td>\n",
       "      <td>73.0</td>\n",
       "      <td>8</td>\n",
       "      <td>192.0</td>\n",
       "      <td>Nintendo</td>\n",
       "      <td>E</td>\n",
       "    </tr>\n",
       "    <tr>\n",
       "      <th>4</th>\n",
       "      <td>Pokemon Red/Pokemon Blue</td>\n",
       "      <td>GB</td>\n",
       "      <td>1996.0</td>\n",
       "      <td>Role-Playing</td>\n",
       "      <td>Nintendo</td>\n",
       "      <td>11.27</td>\n",
       "      <td>8.89</td>\n",
       "      <td>10.22</td>\n",
       "      <td>1.00</td>\n",
       "      <td>31.37</td>\n",
       "      <td>NaN</td>\n",
       "      <td>NaN</td>\n",
       "      <td>NaN</td>\n",
       "      <td>NaN</td>\n",
       "      <td>NaN</td>\n",
       "      <td>NaN</td>\n",
       "    </tr>\n",
       "    <tr>\n",
       "      <th>5</th>\n",
       "      <td>Tetris</td>\n",
       "      <td>GB</td>\n",
       "      <td>1989.0</td>\n",
       "      <td>Puzzle</td>\n",
       "      <td>Nintendo</td>\n",
       "      <td>23.20</td>\n",
       "      <td>2.26</td>\n",
       "      <td>4.22</td>\n",
       "      <td>0.58</td>\n",
       "      <td>30.26</td>\n",
       "      <td>NaN</td>\n",
       "      <td>NaN</td>\n",
       "      <td>NaN</td>\n",
       "      <td>NaN</td>\n",
       "      <td>NaN</td>\n",
       "      <td>NaN</td>\n",
       "    </tr>\n",
       "    <tr>\n",
       "      <th>6</th>\n",
       "      <td>New Super Mario Bros.</td>\n",
       "      <td>DS</td>\n",
       "      <td>2006.0</td>\n",
       "      <td>Platform</td>\n",
       "      <td>Nintendo</td>\n",
       "      <td>11.28</td>\n",
       "      <td>9.14</td>\n",
       "      <td>6.50</td>\n",
       "      <td>2.88</td>\n",
       "      <td>29.80</td>\n",
       "      <td>89.0</td>\n",
       "      <td>65.0</td>\n",
       "      <td>8.5</td>\n",
       "      <td>431.0</td>\n",
       "      <td>Nintendo</td>\n",
       "      <td>E</td>\n",
       "    </tr>\n",
       "    <tr>\n",
       "      <th>7</th>\n",
       "      <td>Wii Play</td>\n",
       "      <td>Wii</td>\n",
       "      <td>2006.0</td>\n",
       "      <td>Misc</td>\n",
       "      <td>Nintendo</td>\n",
       "      <td>13.96</td>\n",
       "      <td>9.18</td>\n",
       "      <td>2.93</td>\n",
       "      <td>2.84</td>\n",
       "      <td>28.92</td>\n",
       "      <td>58.0</td>\n",
       "      <td>41.0</td>\n",
       "      <td>6.6</td>\n",
       "      <td>129.0</td>\n",
       "      <td>Nintendo</td>\n",
       "      <td>E</td>\n",
       "    </tr>\n",
       "    <tr>\n",
       "      <th>8</th>\n",
       "      <td>New Super Mario Bros. Wii</td>\n",
       "      <td>Wii</td>\n",
       "      <td>2009.0</td>\n",
       "      <td>Platform</td>\n",
       "      <td>Nintendo</td>\n",
       "      <td>14.44</td>\n",
       "      <td>6.94</td>\n",
       "      <td>4.70</td>\n",
       "      <td>2.24</td>\n",
       "      <td>28.32</td>\n",
       "      <td>87.0</td>\n",
       "      <td>80.0</td>\n",
       "      <td>8.4</td>\n",
       "      <td>594.0</td>\n",
       "      <td>Nintendo</td>\n",
       "      <td>E</td>\n",
       "    </tr>\n",
       "    <tr>\n",
       "      <th>9</th>\n",
       "      <td>Duck Hunt</td>\n",
       "      <td>NES</td>\n",
       "      <td>1984.0</td>\n",
       "      <td>Shooter</td>\n",
       "      <td>Nintendo</td>\n",
       "      <td>26.93</td>\n",
       "      <td>0.63</td>\n",
       "      <td>0.28</td>\n",
       "      <td>0.47</td>\n",
       "      <td>28.31</td>\n",
       "      <td>NaN</td>\n",
       "      <td>NaN</td>\n",
       "      <td>NaN</td>\n",
       "      <td>NaN</td>\n",
       "      <td>NaN</td>\n",
       "      <td>NaN</td>\n",
       "    </tr>\n",
       "  </tbody>\n",
       "</table>\n",
       "</div>"
      ]
     },
     "execution_count": 3,
     "metadata": {},
     "output_type": "execute_result"
    }
   ],
   "execution_count": 3
  },
  {
   "cell_type": "markdown",
   "source": [
    "We select our features as 'Critic_Score', 'Year_of_Release', 'Genre'. We want to predict 'Global Sales'.\n",
    "**Drop 'NA' Values in the respective columns**"
   ],
   "metadata": {
    "id": "t_jJ5i1B6y-M"
   }
  },
  {
   "cell_type": "code",
   "source": [
    "feature_columns = ['Critic_Score', 'Critic_Count', 'Year_of_Release', 'Genre', 'User_Score', 'User_Count', 'Developer', 'Rating', 'Platform', 'Genre', 'Publisher']\n",
    "prediction_column = ['Global_Sales']\n",
    "all_columns = feature_columns + prediction_column\n",
    "\n",
    "print(\"Dropping NA Values in following columns\")\n",
    "for column in all_columns:\n",
    "  print(column)\n",
    "print(f\"Before dropping NA Values Video Game Sales Data has {df_vg_sales.shape[0]} entries with a total of {df_vg_sales.shape[1]} columns.\")\n",
    "df_vg_sales = df_vg_sales.dropna(subset=all_columns)\n",
    "print(f\"After dropping NA Values: Video Game Sales Data has {df_vg_sales.shape[0]} entries with a total of {df_vg_sales.shape[1]} columns.\")"
   ],
   "metadata": {
    "colab": {
     "base_uri": "https://localhost:8080/"
    },
    "id": "DWslmdQ86Nym",
    "outputId": "c88a5444-b56b-4bcf-9cae-7b49b6a5c76d",
    "ExecuteTime": {
     "end_time": "2024-06-07T13:12:12.620652Z",
     "start_time": "2024-06-07T13:12:12.599828Z"
    }
   },
   "outputs": [
    {
     "name": "stdout",
     "output_type": "stream",
     "text": [
      "Dropping NA Values in following columns\n",
      "Critic_Score\n",
      "Critic_Count\n",
      "Year_of_Release\n",
      "Genre\n",
      "User_Score\n",
      "User_Count\n",
      "Developer\n",
      "Rating\n",
      "Platform\n",
      "Genre\n",
      "Publisher\n",
      "Global_Sales\n",
      "Before dropping NA Values Video Game Sales Data has 16719 entries with a total of 16 columns.\n",
      "After dropping NA Values: Video Game Sales Data has 6825 entries with a total of 16 columns.\n"
     ]
    }
   ],
   "execution_count": 4
  },
  {
   "cell_type": "code",
   "source": [
    "df_vg_sales[all_columns].head(10)"
   ],
   "metadata": {
    "colab": {
     "base_uri": "https://localhost:8080/",
     "height": 363
    },
    "id": "CF2aDszqBuoS",
    "outputId": "1cb7ed34-bc18-4be7-e15c-9bc7cb9ccb72",
    "ExecuteTime": {
     "end_time": "2024-06-07T13:12:12.646339Z",
     "start_time": "2024-06-07T13:12:12.622177Z"
    }
   },
   "outputs": [
    {
     "data": {
      "text/plain": [
       "    Critic_Score  Critic_Count  Year_of_Release     Genre User_Score  \\\n",
       "0           76.0          51.0           2006.0    Sports          8   \n",
       "2           82.0          73.0           2008.0    Racing        8.3   \n",
       "3           80.0          73.0           2009.0    Sports          8   \n",
       "6           89.0          65.0           2006.0  Platform        8.5   \n",
       "7           58.0          41.0           2006.0      Misc        6.6   \n",
       "8           87.0          80.0           2009.0  Platform        8.4   \n",
       "11          91.0          64.0           2005.0    Racing        8.6   \n",
       "13          80.0          63.0           2007.0    Sports        7.7   \n",
       "14          61.0          45.0           2010.0      Misc        6.3   \n",
       "15          80.0          33.0           2009.0    Sports        7.4   \n",
       "\n",
       "    User_Count            Developer Rating Platform     Genre  \\\n",
       "0        322.0             Nintendo      E      Wii    Sports   \n",
       "2        709.0             Nintendo      E      Wii    Racing   \n",
       "3        192.0             Nintendo      E      Wii    Sports   \n",
       "6        431.0             Nintendo      E       DS  Platform   \n",
       "7        129.0             Nintendo      E      Wii      Misc   \n",
       "8        594.0             Nintendo      E      Wii  Platform   \n",
       "11       464.0             Nintendo      E       DS    Racing   \n",
       "13       146.0             Nintendo      E      Wii    Sports   \n",
       "14       106.0  Good Science Studio      E     X360      Misc   \n",
       "15        52.0             Nintendo      E      Wii    Sports   \n",
       "\n",
       "                 Publisher  Global_Sales  \n",
       "0                 Nintendo         82.53  \n",
       "2                 Nintendo         35.52  \n",
       "3                 Nintendo         32.77  \n",
       "6                 Nintendo         29.80  \n",
       "7                 Nintendo         28.92  \n",
       "8                 Nintendo         28.32  \n",
       "11                Nintendo         23.21  \n",
       "13                Nintendo         22.70  \n",
       "14  Microsoft Game Studios         21.81  \n",
       "15                Nintendo         21.79  "
      ],
      "text/html": [
       "<div>\n",
       "<style scoped>\n",
       "    .dataframe tbody tr th:only-of-type {\n",
       "        vertical-align: middle;\n",
       "    }\n",
       "\n",
       "    .dataframe tbody tr th {\n",
       "        vertical-align: top;\n",
       "    }\n",
       "\n",
       "    .dataframe thead th {\n",
       "        text-align: right;\n",
       "    }\n",
       "</style>\n",
       "<table border=\"1\" class=\"dataframe\">\n",
       "  <thead>\n",
       "    <tr style=\"text-align: right;\">\n",
       "      <th></th>\n",
       "      <th>Critic_Score</th>\n",
       "      <th>Critic_Count</th>\n",
       "      <th>Year_of_Release</th>\n",
       "      <th>Genre</th>\n",
       "      <th>User_Score</th>\n",
       "      <th>User_Count</th>\n",
       "      <th>Developer</th>\n",
       "      <th>Rating</th>\n",
       "      <th>Platform</th>\n",
       "      <th>Genre</th>\n",
       "      <th>Publisher</th>\n",
       "      <th>Global_Sales</th>\n",
       "    </tr>\n",
       "  </thead>\n",
       "  <tbody>\n",
       "    <tr>\n",
       "      <th>0</th>\n",
       "      <td>76.0</td>\n",
       "      <td>51.0</td>\n",
       "      <td>2006.0</td>\n",
       "      <td>Sports</td>\n",
       "      <td>8</td>\n",
       "      <td>322.0</td>\n",
       "      <td>Nintendo</td>\n",
       "      <td>E</td>\n",
       "      <td>Wii</td>\n",
       "      <td>Sports</td>\n",
       "      <td>Nintendo</td>\n",
       "      <td>82.53</td>\n",
       "    </tr>\n",
       "    <tr>\n",
       "      <th>2</th>\n",
       "      <td>82.0</td>\n",
       "      <td>73.0</td>\n",
       "      <td>2008.0</td>\n",
       "      <td>Racing</td>\n",
       "      <td>8.3</td>\n",
       "      <td>709.0</td>\n",
       "      <td>Nintendo</td>\n",
       "      <td>E</td>\n",
       "      <td>Wii</td>\n",
       "      <td>Racing</td>\n",
       "      <td>Nintendo</td>\n",
       "      <td>35.52</td>\n",
       "    </tr>\n",
       "    <tr>\n",
       "      <th>3</th>\n",
       "      <td>80.0</td>\n",
       "      <td>73.0</td>\n",
       "      <td>2009.0</td>\n",
       "      <td>Sports</td>\n",
       "      <td>8</td>\n",
       "      <td>192.0</td>\n",
       "      <td>Nintendo</td>\n",
       "      <td>E</td>\n",
       "      <td>Wii</td>\n",
       "      <td>Sports</td>\n",
       "      <td>Nintendo</td>\n",
       "      <td>32.77</td>\n",
       "    </tr>\n",
       "    <tr>\n",
       "      <th>6</th>\n",
       "      <td>89.0</td>\n",
       "      <td>65.0</td>\n",
       "      <td>2006.0</td>\n",
       "      <td>Platform</td>\n",
       "      <td>8.5</td>\n",
       "      <td>431.0</td>\n",
       "      <td>Nintendo</td>\n",
       "      <td>E</td>\n",
       "      <td>DS</td>\n",
       "      <td>Platform</td>\n",
       "      <td>Nintendo</td>\n",
       "      <td>29.80</td>\n",
       "    </tr>\n",
       "    <tr>\n",
       "      <th>7</th>\n",
       "      <td>58.0</td>\n",
       "      <td>41.0</td>\n",
       "      <td>2006.0</td>\n",
       "      <td>Misc</td>\n",
       "      <td>6.6</td>\n",
       "      <td>129.0</td>\n",
       "      <td>Nintendo</td>\n",
       "      <td>E</td>\n",
       "      <td>Wii</td>\n",
       "      <td>Misc</td>\n",
       "      <td>Nintendo</td>\n",
       "      <td>28.92</td>\n",
       "    </tr>\n",
       "    <tr>\n",
       "      <th>8</th>\n",
       "      <td>87.0</td>\n",
       "      <td>80.0</td>\n",
       "      <td>2009.0</td>\n",
       "      <td>Platform</td>\n",
       "      <td>8.4</td>\n",
       "      <td>594.0</td>\n",
       "      <td>Nintendo</td>\n",
       "      <td>E</td>\n",
       "      <td>Wii</td>\n",
       "      <td>Platform</td>\n",
       "      <td>Nintendo</td>\n",
       "      <td>28.32</td>\n",
       "    </tr>\n",
       "    <tr>\n",
       "      <th>11</th>\n",
       "      <td>91.0</td>\n",
       "      <td>64.0</td>\n",
       "      <td>2005.0</td>\n",
       "      <td>Racing</td>\n",
       "      <td>8.6</td>\n",
       "      <td>464.0</td>\n",
       "      <td>Nintendo</td>\n",
       "      <td>E</td>\n",
       "      <td>DS</td>\n",
       "      <td>Racing</td>\n",
       "      <td>Nintendo</td>\n",
       "      <td>23.21</td>\n",
       "    </tr>\n",
       "    <tr>\n",
       "      <th>13</th>\n",
       "      <td>80.0</td>\n",
       "      <td>63.0</td>\n",
       "      <td>2007.0</td>\n",
       "      <td>Sports</td>\n",
       "      <td>7.7</td>\n",
       "      <td>146.0</td>\n",
       "      <td>Nintendo</td>\n",
       "      <td>E</td>\n",
       "      <td>Wii</td>\n",
       "      <td>Sports</td>\n",
       "      <td>Nintendo</td>\n",
       "      <td>22.70</td>\n",
       "    </tr>\n",
       "    <tr>\n",
       "      <th>14</th>\n",
       "      <td>61.0</td>\n",
       "      <td>45.0</td>\n",
       "      <td>2010.0</td>\n",
       "      <td>Misc</td>\n",
       "      <td>6.3</td>\n",
       "      <td>106.0</td>\n",
       "      <td>Good Science Studio</td>\n",
       "      <td>E</td>\n",
       "      <td>X360</td>\n",
       "      <td>Misc</td>\n",
       "      <td>Microsoft Game Studios</td>\n",
       "      <td>21.81</td>\n",
       "    </tr>\n",
       "    <tr>\n",
       "      <th>15</th>\n",
       "      <td>80.0</td>\n",
       "      <td>33.0</td>\n",
       "      <td>2009.0</td>\n",
       "      <td>Sports</td>\n",
       "      <td>7.4</td>\n",
       "      <td>52.0</td>\n",
       "      <td>Nintendo</td>\n",
       "      <td>E</td>\n",
       "      <td>Wii</td>\n",
       "      <td>Sports</td>\n",
       "      <td>Nintendo</td>\n",
       "      <td>21.79</td>\n",
       "    </tr>\n",
       "  </tbody>\n",
       "</table>\n",
       "</div>"
      ]
     },
     "execution_count": 5,
     "metadata": {},
     "output_type": "execute_result"
    }
   ],
   "execution_count": 5
  },
  {
   "cell_type": "markdown",
   "source": [
    "Convert caterogical values into numbers/integers\n",
    "\n",
    "PS3 -> 0\n",
    "Wii -> 1\n",
    ".\n",
    ".\n",
    ".\n",
    "\n"
   ],
   "metadata": {
    "id": "I08LHagU-Jk0"
   }
  },
  {
   "cell_type": "code",
   "source": [
    "from sklearn.model_selection import train_test_split\n",
    "from sklearn.linear_model import LinearRegression\n",
    "from sklearn.metrics import mean_squared_error\n",
    "from sklearn.preprocessing import LabelEncoder, StandardScaler\n",
    "\n",
    "label_encoder = LabelEncoder()\n",
    "for column in feature_columns:\n",
    "  try:\n",
    "    int(df_vg_sales.loc[0,column])\n",
    "  except: # if it isn't a number -> label encoding\n",
    "      df_vg_sales[column] = label_encoder.fit_transform(df_vg_sales[column])"
   ],
   "metadata": {
    "id": "g3pf_7TR7iqC",
    "ExecuteTime": {
     "end_time": "2024-06-07T13:12:12.665315Z",
     "start_time": "2024-06-07T13:12:12.647950Z"
    }
   },
   "outputs": [],
   "execution_count": 6
  },
  {
   "cell_type": "code",
   "source": [
    "df_vg_sales.head(10)"
   ],
   "metadata": {
    "colab": {
     "base_uri": "https://localhost:8080/",
     "height": 522
    },
    "id": "8vliIwBDAkHg",
    "outputId": "43c9d8b4-c80f-4ea2-e117-f4e0652e887c",
    "ExecuteTime": {
     "end_time": "2024-06-07T13:12:12.689960Z",
     "start_time": "2024-06-07T13:12:12.667233Z"
    }
   },
   "outputs": [
    {
     "data": {
      "text/plain": [
       "                         Name  Platform  Year_of_Release  Genre  Publisher  \\\n",
       "0                  Wii Sports        12           2006.0     10        160   \n",
       "2              Mario Kart Wii        12           2008.0      6        160   \n",
       "3           Wii Sports Resort        12           2009.0     10        160   \n",
       "6       New Super Mario Bros.         2           2006.0      4        160   \n",
       "7                    Wii Play        12           2006.0      3        160   \n",
       "8   New Super Mario Bros. Wii        12           2009.0      4        160   \n",
       "11              Mario Kart DS         2           2005.0      6        160   \n",
       "13                    Wii Fit        12           2007.0     10        160   \n",
       "14         Kinect Adventures!        14           2010.0      3        144   \n",
       "15               Wii Fit Plus        12           2009.0     10        160   \n",
       "\n",
       "    NA_Sales  EU_Sales  JP_Sales  Other_Sales  Global_Sales  Critic_Score  \\\n",
       "0      41.36     28.96      3.77         8.45         82.53          76.0   \n",
       "2      15.68     12.76      3.79         3.29         35.52          82.0   \n",
       "3      15.61     10.93      3.28         2.95         32.77          80.0   \n",
       "6      11.28      9.14      6.50         2.88         29.80          89.0   \n",
       "7      13.96      9.18      2.93         2.84         28.92          58.0   \n",
       "8      14.44      6.94      4.70         2.24         28.32          87.0   \n",
       "11      9.71      7.47      4.13         1.90         23.21          91.0   \n",
       "13      8.92      8.03      3.60         2.15         22.70          80.0   \n",
       "14     15.00      4.89      0.24         1.69         21.81          61.0   \n",
       "15      9.01      8.49      2.53         1.77         21.79          80.0   \n",
       "\n",
       "    Critic_Count User_Score  User_Count  Developer  Rating  \n",
       "0           51.0          8       322.0        771       1  \n",
       "2           73.0        8.3       709.0        771       1  \n",
       "3           73.0          8       192.0        771       1  \n",
       "6           65.0        8.5       431.0        771       1  \n",
       "7           41.0        6.6       129.0        771       1  \n",
       "8           80.0        8.4       594.0        771       1  \n",
       "11          64.0        8.6       464.0        771       1  \n",
       "13          63.0        7.7       146.0        771       1  \n",
       "14          45.0        6.3       106.0        469       1  \n",
       "15          33.0        7.4        52.0        771       1  "
      ],
      "text/html": [
       "<div>\n",
       "<style scoped>\n",
       "    .dataframe tbody tr th:only-of-type {\n",
       "        vertical-align: middle;\n",
       "    }\n",
       "\n",
       "    .dataframe tbody tr th {\n",
       "        vertical-align: top;\n",
       "    }\n",
       "\n",
       "    .dataframe thead th {\n",
       "        text-align: right;\n",
       "    }\n",
       "</style>\n",
       "<table border=\"1\" class=\"dataframe\">\n",
       "  <thead>\n",
       "    <tr style=\"text-align: right;\">\n",
       "      <th></th>\n",
       "      <th>Name</th>\n",
       "      <th>Platform</th>\n",
       "      <th>Year_of_Release</th>\n",
       "      <th>Genre</th>\n",
       "      <th>Publisher</th>\n",
       "      <th>NA_Sales</th>\n",
       "      <th>EU_Sales</th>\n",
       "      <th>JP_Sales</th>\n",
       "      <th>Other_Sales</th>\n",
       "      <th>Global_Sales</th>\n",
       "      <th>Critic_Score</th>\n",
       "      <th>Critic_Count</th>\n",
       "      <th>User_Score</th>\n",
       "      <th>User_Count</th>\n",
       "      <th>Developer</th>\n",
       "      <th>Rating</th>\n",
       "    </tr>\n",
       "  </thead>\n",
       "  <tbody>\n",
       "    <tr>\n",
       "      <th>0</th>\n",
       "      <td>Wii Sports</td>\n",
       "      <td>12</td>\n",
       "      <td>2006.0</td>\n",
       "      <td>10</td>\n",
       "      <td>160</td>\n",
       "      <td>41.36</td>\n",
       "      <td>28.96</td>\n",
       "      <td>3.77</td>\n",
       "      <td>8.45</td>\n",
       "      <td>82.53</td>\n",
       "      <td>76.0</td>\n",
       "      <td>51.0</td>\n",
       "      <td>8</td>\n",
       "      <td>322.0</td>\n",
       "      <td>771</td>\n",
       "      <td>1</td>\n",
       "    </tr>\n",
       "    <tr>\n",
       "      <th>2</th>\n",
       "      <td>Mario Kart Wii</td>\n",
       "      <td>12</td>\n",
       "      <td>2008.0</td>\n",
       "      <td>6</td>\n",
       "      <td>160</td>\n",
       "      <td>15.68</td>\n",
       "      <td>12.76</td>\n",
       "      <td>3.79</td>\n",
       "      <td>3.29</td>\n",
       "      <td>35.52</td>\n",
       "      <td>82.0</td>\n",
       "      <td>73.0</td>\n",
       "      <td>8.3</td>\n",
       "      <td>709.0</td>\n",
       "      <td>771</td>\n",
       "      <td>1</td>\n",
       "    </tr>\n",
       "    <tr>\n",
       "      <th>3</th>\n",
       "      <td>Wii Sports Resort</td>\n",
       "      <td>12</td>\n",
       "      <td>2009.0</td>\n",
       "      <td>10</td>\n",
       "      <td>160</td>\n",
       "      <td>15.61</td>\n",
       "      <td>10.93</td>\n",
       "      <td>3.28</td>\n",
       "      <td>2.95</td>\n",
       "      <td>32.77</td>\n",
       "      <td>80.0</td>\n",
       "      <td>73.0</td>\n",
       "      <td>8</td>\n",
       "      <td>192.0</td>\n",
       "      <td>771</td>\n",
       "      <td>1</td>\n",
       "    </tr>\n",
       "    <tr>\n",
       "      <th>6</th>\n",
       "      <td>New Super Mario Bros.</td>\n",
       "      <td>2</td>\n",
       "      <td>2006.0</td>\n",
       "      <td>4</td>\n",
       "      <td>160</td>\n",
       "      <td>11.28</td>\n",
       "      <td>9.14</td>\n",
       "      <td>6.50</td>\n",
       "      <td>2.88</td>\n",
       "      <td>29.80</td>\n",
       "      <td>89.0</td>\n",
       "      <td>65.0</td>\n",
       "      <td>8.5</td>\n",
       "      <td>431.0</td>\n",
       "      <td>771</td>\n",
       "      <td>1</td>\n",
       "    </tr>\n",
       "    <tr>\n",
       "      <th>7</th>\n",
       "      <td>Wii Play</td>\n",
       "      <td>12</td>\n",
       "      <td>2006.0</td>\n",
       "      <td>3</td>\n",
       "      <td>160</td>\n",
       "      <td>13.96</td>\n",
       "      <td>9.18</td>\n",
       "      <td>2.93</td>\n",
       "      <td>2.84</td>\n",
       "      <td>28.92</td>\n",
       "      <td>58.0</td>\n",
       "      <td>41.0</td>\n",
       "      <td>6.6</td>\n",
       "      <td>129.0</td>\n",
       "      <td>771</td>\n",
       "      <td>1</td>\n",
       "    </tr>\n",
       "    <tr>\n",
       "      <th>8</th>\n",
       "      <td>New Super Mario Bros. Wii</td>\n",
       "      <td>12</td>\n",
       "      <td>2009.0</td>\n",
       "      <td>4</td>\n",
       "      <td>160</td>\n",
       "      <td>14.44</td>\n",
       "      <td>6.94</td>\n",
       "      <td>4.70</td>\n",
       "      <td>2.24</td>\n",
       "      <td>28.32</td>\n",
       "      <td>87.0</td>\n",
       "      <td>80.0</td>\n",
       "      <td>8.4</td>\n",
       "      <td>594.0</td>\n",
       "      <td>771</td>\n",
       "      <td>1</td>\n",
       "    </tr>\n",
       "    <tr>\n",
       "      <th>11</th>\n",
       "      <td>Mario Kart DS</td>\n",
       "      <td>2</td>\n",
       "      <td>2005.0</td>\n",
       "      <td>6</td>\n",
       "      <td>160</td>\n",
       "      <td>9.71</td>\n",
       "      <td>7.47</td>\n",
       "      <td>4.13</td>\n",
       "      <td>1.90</td>\n",
       "      <td>23.21</td>\n",
       "      <td>91.0</td>\n",
       "      <td>64.0</td>\n",
       "      <td>8.6</td>\n",
       "      <td>464.0</td>\n",
       "      <td>771</td>\n",
       "      <td>1</td>\n",
       "    </tr>\n",
       "    <tr>\n",
       "      <th>13</th>\n",
       "      <td>Wii Fit</td>\n",
       "      <td>12</td>\n",
       "      <td>2007.0</td>\n",
       "      <td>10</td>\n",
       "      <td>160</td>\n",
       "      <td>8.92</td>\n",
       "      <td>8.03</td>\n",
       "      <td>3.60</td>\n",
       "      <td>2.15</td>\n",
       "      <td>22.70</td>\n",
       "      <td>80.0</td>\n",
       "      <td>63.0</td>\n",
       "      <td>7.7</td>\n",
       "      <td>146.0</td>\n",
       "      <td>771</td>\n",
       "      <td>1</td>\n",
       "    </tr>\n",
       "    <tr>\n",
       "      <th>14</th>\n",
       "      <td>Kinect Adventures!</td>\n",
       "      <td>14</td>\n",
       "      <td>2010.0</td>\n",
       "      <td>3</td>\n",
       "      <td>144</td>\n",
       "      <td>15.00</td>\n",
       "      <td>4.89</td>\n",
       "      <td>0.24</td>\n",
       "      <td>1.69</td>\n",
       "      <td>21.81</td>\n",
       "      <td>61.0</td>\n",
       "      <td>45.0</td>\n",
       "      <td>6.3</td>\n",
       "      <td>106.0</td>\n",
       "      <td>469</td>\n",
       "      <td>1</td>\n",
       "    </tr>\n",
       "    <tr>\n",
       "      <th>15</th>\n",
       "      <td>Wii Fit Plus</td>\n",
       "      <td>12</td>\n",
       "      <td>2009.0</td>\n",
       "      <td>10</td>\n",
       "      <td>160</td>\n",
       "      <td>9.01</td>\n",
       "      <td>8.49</td>\n",
       "      <td>2.53</td>\n",
       "      <td>1.77</td>\n",
       "      <td>21.79</td>\n",
       "      <td>80.0</td>\n",
       "      <td>33.0</td>\n",
       "      <td>7.4</td>\n",
       "      <td>52.0</td>\n",
       "      <td>771</td>\n",
       "      <td>1</td>\n",
       "    </tr>\n",
       "  </tbody>\n",
       "</table>\n",
       "</div>"
      ]
     },
     "execution_count": 7,
     "metadata": {},
     "output_type": "execute_result"
    }
   ],
   "execution_count": 7
  },
  {
   "cell_type": "markdown",
   "source": [
    "Select features and prediction co"
   ],
   "metadata": {
    "id": "K6kvdR5o-sMt"
   }
  },
  {
   "cell_type": "code",
   "source": [
    "features = df_vg_sales[feature_columns]\n",
    "target = df_vg_sales['Global_Sales']"
   ],
   "metadata": {
    "id": "_dgNGVJy96-m",
    "ExecuteTime": {
     "end_time": "2024-06-07T13:12:12.703619Z",
     "start_time": "2024-06-07T13:12:12.689960Z"
    }
   },
   "outputs": [],
   "execution_count": 8
  },
  {
   "cell_type": "markdown",
   "source": [],
   "metadata": {
    "id": "XTkLDGBNAzcH"
   }
  },
  {
   "cell_type": "code",
   "source": [
    "# Splitting data into training and testing sets\n",
    "X_train, X_test, y_train, y_test = train_test_split(features, target, test_size=0.2, random_state=42)"
   ],
   "metadata": {
    "id": "fBP4SZ_598cz",
    "ExecuteTime": {
     "end_time": "2024-06-07T13:12:12.716037Z",
     "start_time": "2024-06-07T13:12:12.703619Z"
    }
   },
   "outputs": [],
   "execution_count": 9
  },
  {
   "cell_type": "markdown",
   "source": [],
   "metadata": {
    "id": "p99pWtbmA0pP"
   }
  },
  {
   "cell_type": "code",
   "source": [
    "# Standardizing features\n",
    "scaler = StandardScaler()\n",
    "X_train_scaled = scaler.fit_transform(X_train)\n",
    "X_test_scaled = scaler.transform(X_test)"
   ],
   "metadata": {
    "id": "3Dt5Dpt599wC",
    "ExecuteTime": {
     "end_time": "2024-06-07T13:12:12.738442Z",
     "start_time": "2024-06-07T13:12:12.716037Z"
    }
   },
   "outputs": [],
   "execution_count": 10
  },
  {
   "cell_type": "code",
   "source": [
    "X_train.head(10)"
   ],
   "metadata": {
    "colab": {
     "base_uri": "https://localhost:8080/",
     "height": 363
    },
    "id": "zAC01v3AAxeY",
    "outputId": "538ef02d-21f0-4f03-e4f7-ed80cf7d8f52",
    "ExecuteTime": {
     "end_time": "2024-06-07T13:12:12.759051Z",
     "start_time": "2024-06-07T13:12:12.739459Z"
    }
   },
   "outputs": [
    {
     "data": {
      "text/plain": [
       "       Critic_Score  Critic_Count  Year_of_Release  Genre User_Score  \\\n",
       "2160           87.0          29.0           2005.0      0        8.6   \n",
       "2976           89.0          29.0           2004.0     10          8   \n",
       "3430           77.0          56.0           2012.0      2        6.2   \n",
       "7997           72.0          27.0           2003.0      0        8.9   \n",
       "10814          78.0          30.0           2008.0      8        7.7   \n",
       "5695           72.0          42.0           2009.0      0        7.6   \n",
       "14533          66.0          16.0           2005.0      9        7.8   \n",
       "6326           69.0          20.0           2014.0      0        6.8   \n",
       "9456           50.0          31.0           2008.0      8        7.1   \n",
       "15941          75.0           8.0           2001.0     11        7.6   \n",
       "\n",
       "       User_Count  Developer  Rating  Platform  Genre  Publisher  \n",
       "2160         53.0       1189       4         7      0        237  \n",
       "2976         12.0        345       1        15     10         61  \n",
       "3430        124.0        863       6        14      2        155  \n",
       "7997         47.0        385       6         7      0        246  \n",
       "10814        17.0        184       1        12      8         60  \n",
       "5695         24.0       1173       6         8      0         41  \n",
       "14533        10.0        463       6         7      9        123  \n",
       "6326         36.0       1101       2        16      0        249  \n",
       "9456         31.0       1035       4         8      8         22  \n",
       "15941        68.0       1116       1         5     11        244  "
      ],
      "text/html": [
       "<div>\n",
       "<style scoped>\n",
       "    .dataframe tbody tr th:only-of-type {\n",
       "        vertical-align: middle;\n",
       "    }\n",
       "\n",
       "    .dataframe tbody tr th {\n",
       "        vertical-align: top;\n",
       "    }\n",
       "\n",
       "    .dataframe thead th {\n",
       "        text-align: right;\n",
       "    }\n",
       "</style>\n",
       "<table border=\"1\" class=\"dataframe\">\n",
       "  <thead>\n",
       "    <tr style=\"text-align: right;\">\n",
       "      <th></th>\n",
       "      <th>Critic_Score</th>\n",
       "      <th>Critic_Count</th>\n",
       "      <th>Year_of_Release</th>\n",
       "      <th>Genre</th>\n",
       "      <th>User_Score</th>\n",
       "      <th>User_Count</th>\n",
       "      <th>Developer</th>\n",
       "      <th>Rating</th>\n",
       "      <th>Platform</th>\n",
       "      <th>Genre</th>\n",
       "      <th>Publisher</th>\n",
       "    </tr>\n",
       "  </thead>\n",
       "  <tbody>\n",
       "    <tr>\n",
       "      <th>2160</th>\n",
       "      <td>87.0</td>\n",
       "      <td>29.0</td>\n",
       "      <td>2005.0</td>\n",
       "      <td>0</td>\n",
       "      <td>8.6</td>\n",
       "      <td>53.0</td>\n",
       "      <td>1189</td>\n",
       "      <td>4</td>\n",
       "      <td>7</td>\n",
       "      <td>0</td>\n",
       "      <td>237</td>\n",
       "    </tr>\n",
       "    <tr>\n",
       "      <th>2976</th>\n",
       "      <td>89.0</td>\n",
       "      <td>29.0</td>\n",
       "      <td>2004.0</td>\n",
       "      <td>10</td>\n",
       "      <td>8</td>\n",
       "      <td>12.0</td>\n",
       "      <td>345</td>\n",
       "      <td>1</td>\n",
       "      <td>15</td>\n",
       "      <td>10</td>\n",
       "      <td>61</td>\n",
       "    </tr>\n",
       "    <tr>\n",
       "      <th>3430</th>\n",
       "      <td>77.0</td>\n",
       "      <td>56.0</td>\n",
       "      <td>2012.0</td>\n",
       "      <td>2</td>\n",
       "      <td>6.2</td>\n",
       "      <td>124.0</td>\n",
       "      <td>863</td>\n",
       "      <td>6</td>\n",
       "      <td>14</td>\n",
       "      <td>2</td>\n",
       "      <td>155</td>\n",
       "    </tr>\n",
       "    <tr>\n",
       "      <th>7997</th>\n",
       "      <td>72.0</td>\n",
       "      <td>27.0</td>\n",
       "      <td>2003.0</td>\n",
       "      <td>0</td>\n",
       "      <td>8.9</td>\n",
       "      <td>47.0</td>\n",
       "      <td>385</td>\n",
       "      <td>6</td>\n",
       "      <td>7</td>\n",
       "      <td>0</td>\n",
       "      <td>246</td>\n",
       "    </tr>\n",
       "    <tr>\n",
       "      <th>10814</th>\n",
       "      <td>78.0</td>\n",
       "      <td>30.0</td>\n",
       "      <td>2008.0</td>\n",
       "      <td>8</td>\n",
       "      <td>7.7</td>\n",
       "      <td>17.0</td>\n",
       "      <td>184</td>\n",
       "      <td>1</td>\n",
       "      <td>12</td>\n",
       "      <td>8</td>\n",
       "      <td>60</td>\n",
       "    </tr>\n",
       "    <tr>\n",
       "      <th>5695</th>\n",
       "      <td>72.0</td>\n",
       "      <td>42.0</td>\n",
       "      <td>2009.0</td>\n",
       "      <td>0</td>\n",
       "      <td>7.6</td>\n",
       "      <td>24.0</td>\n",
       "      <td>1173</td>\n",
       "      <td>6</td>\n",
       "      <td>8</td>\n",
       "      <td>0</td>\n",
       "      <td>41</td>\n",
       "    </tr>\n",
       "    <tr>\n",
       "      <th>14533</th>\n",
       "      <td>66.0</td>\n",
       "      <td>16.0</td>\n",
       "      <td>2005.0</td>\n",
       "      <td>9</td>\n",
       "      <td>7.8</td>\n",
       "      <td>10.0</td>\n",
       "      <td>463</td>\n",
       "      <td>6</td>\n",
       "      <td>7</td>\n",
       "      <td>9</td>\n",
       "      <td>123</td>\n",
       "    </tr>\n",
       "    <tr>\n",
       "      <th>6326</th>\n",
       "      <td>69.0</td>\n",
       "      <td>20.0</td>\n",
       "      <td>2014.0</td>\n",
       "      <td>0</td>\n",
       "      <td>6.8</td>\n",
       "      <td>36.0</td>\n",
       "      <td>1101</td>\n",
       "      <td>2</td>\n",
       "      <td>16</td>\n",
       "      <td>0</td>\n",
       "      <td>249</td>\n",
       "    </tr>\n",
       "    <tr>\n",
       "      <th>9456</th>\n",
       "      <td>50.0</td>\n",
       "      <td>31.0</td>\n",
       "      <td>2008.0</td>\n",
       "      <td>8</td>\n",
       "      <td>7.1</td>\n",
       "      <td>31.0</td>\n",
       "      <td>1035</td>\n",
       "      <td>4</td>\n",
       "      <td>8</td>\n",
       "      <td>8</td>\n",
       "      <td>22</td>\n",
       "    </tr>\n",
       "    <tr>\n",
       "      <th>15941</th>\n",
       "      <td>75.0</td>\n",
       "      <td>8.0</td>\n",
       "      <td>2001.0</td>\n",
       "      <td>11</td>\n",
       "      <td>7.6</td>\n",
       "      <td>68.0</td>\n",
       "      <td>1116</td>\n",
       "      <td>1</td>\n",
       "      <td>5</td>\n",
       "      <td>11</td>\n",
       "      <td>244</td>\n",
       "    </tr>\n",
       "  </tbody>\n",
       "</table>\n",
       "</div>"
      ]
     },
     "execution_count": 11,
     "metadata": {},
     "output_type": "execute_result"
    }
   ],
   "execution_count": 11
  },
  {
   "cell_type": "code",
   "source": [
    "y_train.head(10)"
   ],
   "metadata": {
    "colab": {
     "base_uri": "https://localhost:8080/"
    },
    "id": "xPR_K8QOC1sR",
    "outputId": "a142ffc3-6f41-491a-b640-4259e6aa1db3",
    "ExecuteTime": {
     "end_time": "2024-06-07T13:12:12.770106Z",
     "start_time": "2024-06-07T13:12:12.759051Z"
    }
   },
   "outputs": [
    {
     "data": {
      "text/plain": [
       "2160     0.95\n",
       "2976     0.68\n",
       "3430     0.58\n",
       "7997     0.18\n",
       "10814    0.10\n",
       "5695     0.32\n",
       "14533    0.03\n",
       "6326     0.27\n",
       "9456     0.13\n",
       "15941    0.02\n",
       "Name: Global_Sales, dtype: float64"
      ]
     },
     "execution_count": 12,
     "metadata": {},
     "output_type": "execute_result"
    }
   ],
   "execution_count": 12
  },
  {
   "metadata": {
    "ExecuteTime": {
     "end_time": "2024-06-07T13:12:12.846614Z",
     "start_time": "2024-06-07T13:12:12.772119Z"
    }
   },
   "cell_type": "code",
   "source": [
    "from sklearn.linear_model import LinearRegression\n",
    "\n",
    "model = LinearRegression()\n",
    "\n",
    "model.fit(X_train_scaled, y_train)\n",
    "\n",
    "y_pred = model.predict(X_test_scaled)\n"
   ],
   "outputs": [],
   "execution_count": 13
  },
  {
   "metadata": {
    "ExecuteTime": {
     "end_time": "2024-06-07T13:12:12.860388Z",
     "start_time": "2024-06-07T13:12:12.846614Z"
    }
   },
   "cell_type": "code",
   "source": [
    "from sklearn.metrics import mean_absolute_error, mean_squared_error\n",
    "import numpy as np\n",
    "\n",
    "# Calculate the Mean Absolute Error\n",
    "mae = mean_absolute_error(y_test, y_pred)\n",
    "\n",
    "# Calculate the Mean Squared Error\n",
    "mse = mean_squared_error(y_test, y_pred)\n",
    "\n",
    "# Calculate the Root Mean Squared Error\n",
    "rmse = np.sqrt(mse)\n",
    "\n",
    "r2 = model.score(X_test_scaled, y_test)\n",
    "\n",
    "print(f\"Mean Absolute Error (MAE): {mae}\")\n",
    "print(f\"Mean Squared Error (MSE): {mse}\")\n",
    "print(f\"Root Mean Squared Error (RMSE): {rmse}\")\n",
    "print(f\"R2: {r2}\")\n"
   ],
   "outputs": [
    {
     "name": "stdout",
     "output_type": "stream",
     "text": [
      "Mean Absolute Error (MAE): 0.7123865976678774\n",
      "Mean Squared Error (MSE): 2.068375352789458\n",
      "Root Mean Squared Error (RMSE): 1.4381847422321856\n",
      "R2: 0.238913638908536\n"
     ]
    }
   ],
   "execution_count": 14
  },
  {
   "metadata": {
    "ExecuteTime": {
     "end_time": "2024-06-07T13:12:12.883801Z",
     "start_time": "2024-06-07T13:12:12.860388Z"
    }
   },
   "cell_type": "code",
   "source": [
    "from sklearn.linear_model import Ridge\n",
    "\n",
    "# Create a Ridge regression model\n",
    "ridge_model = Ridge(alpha=10)\n",
    "\n",
    "# Fit the model to the training data\n",
    "ridge_model.fit(X_train_scaled, y_train)\n",
    "\n",
    "# Predict the target values for the test data\n",
    "y_pred_ridge = ridge_model.predict(X_test_scaled)\n",
    "\n",
    "# Calculate the Mean Absolute Error\n",
    "mae_ridge = mean_absolute_error(y_test, y_pred_ridge)\n",
    "\n",
    "# Calculate the Mean Squared Error\n",
    "mse_ridge = mean_squared_error(y_test, y_pred_ridge)\n",
    "\n",
    "# Calculate the Root Mean Squared Error\n",
    "rmse_ridge = np.sqrt(mse_ridge)\n",
    "\n",
    "print(f\"Ridge Mean Absolute Error (MAE): {mae_ridge}\")\n",
    "print(f\"Ridge Mean Squared Error (MSE): {mse_ridge}\")\n",
    "print(f\"Ridge Root Mean Squared Error (RMSE): {rmse_ridge}\")"
   ],
   "outputs": [
    {
     "name": "stdout",
     "output_type": "stream",
     "text": [
      "Ridge Mean Absolute Error (MAE): 0.7121342135576048\n",
      "Ridge Mean Squared Error (MSE): 2.0686042908321762\n",
      "Ridge Root Mean Squared Error (RMSE): 1.4382643327400482\n"
     ]
    }
   ],
   "execution_count": 15
  },
  {
   "cell_type": "markdown",
   "source": [],
   "metadata": {
    "collapsed": false
   }
  },
  {
   "metadata": {
    "ExecuteTime": {
     "end_time": "2024-06-07T13:12:36.975115Z",
     "start_time": "2024-06-07T13:12:36.859897Z"
    }
   },
   "cell_type": "code",
   "source": [
    "from sklearn.tree import DecisionTreeRegressor\n",
    "from sklearn.ensemble import RandomForestRegressor\n",
    "from sklearn.svm import SVR\n",
    "from sklearn.ensemble import GradientBoostingRegressor\n",
    "\n",
    "# Gradient Boosting Regressor\n",
    "gb_model = GradientBoostingRegressor(alpha=0.1, n_estimators=100, max_depth=3)\n",
    "gb_model.fit(X_train_scaled, y_train)\n",
    "y_pred_gb = gb_model.predict(X_test_scaled)"
   ],
   "outputs": [],
   "execution_count": 24
  },
  {
   "metadata": {
    "ExecuteTime": {
     "end_time": "2024-06-07T13:12:40.750896Z",
     "start_time": "2024-06-07T13:12:40.728371Z"
    }
   },
   "cell_type": "code",
   "source": [
    "\n",
    "mse_gb = mean_squared_error(y_test, y_pred_gb)\n",
    "r2_gb = gb_model.score(X_test_scaled, y_test)\n",
    "mae_gb = mean_absolute_error(y_test, y_pred_gb)\n",
    "\n",
    "rmse_gb = np.sqrt(mse_gb)\n",
    "\n",
    "\n",
    "print(f\"MSE: {rmse_gb}\")\n",
    "print(f\"r2: {r2_gb}\")\n",
    "print(f\"MAE: {mae_gb}\")"
   ],
   "outputs": [
    {
     "name": "stdout",
     "output_type": "stream",
     "text": [
      "MSE: 1.4239655210137812\n",
      "r2: 0.2538888456490416\n",
      "MAE: 0.6650689715937455\n"
     ]
    }
   ],
   "execution_count": 25
  },
  {
   "metadata": {},
   "cell_type": "markdown",
   "source": [
    "Verteilung Verkaufszahlen"
   ]
  },
  {
   "metadata": {
    "ExecuteTime": {
     "end_time": "2024-06-07T13:12:15.775581Z",
     "start_time": "2024-06-07T13:12:13.760102Z"
    }
   },
   "cell_type": "code",
   "source": [
    "import matplotlib.pyplot as plt\n",
    "\n",
    "# Assuming 'Global_Sales' is the column with the sales data\n",
    "sales_data = df_vg_sales['Global_Sales']\n",
    "\n",
    "plt.figure(figsize=(10,6))\n",
    "plt.hist(sales_data, bins=20, edgecolor='black')\n",
    "plt.title('Distribution of Global Sales')\n",
    "plt.xlabel('Global Sales')\n",
    "\n",
    "plt.yscale('log')\n",
    "plt.ylabel('Frequency')\n",
    "plt.show()"
   ],
   "outputs": [
    {
     "data": {
      "text/plain": [
       "<Figure size 1000x600 with 1 Axes>"
      ],
      "image/png": "[encoded data removed]"
     },
     "metadata": {},
     "output_type": "display_data"
    }
   ],
   "execution_count": 18
  },
  {
   "metadata": {
    "ExecuteTime": {
     "end_time": "2024-06-07T13:12:15.793647Z",
     "start_time": "2024-06-07T13:12:15.775581Z"
    }
   },
   "cell_type": "code",
   "source": [
    "print(df_vg_sales.head(10))"
   ],
   "outputs": [
    {
     "name": "stdout",
     "output_type": "stream",
     "text": [
      "                         Name  Platform  Year_of_Release  Genre  Publisher  \\\n",
      "0                  Wii Sports        12           2006.0     10        160   \n",
      "2              Mario Kart Wii        12           2008.0      6        160   \n",
      "3           Wii Sports Resort        12           2009.0     10        160   \n",
      "6       New Super Mario Bros.         2           2006.0      4        160   \n",
      "7                    Wii Play        12           2006.0      3        160   \n",
      "8   New Super Mario Bros. Wii        12           2009.0      4        160   \n",
      "11              Mario Kart DS         2           2005.0      6        160   \n",
      "13                    Wii Fit        12           2007.0     10        160   \n",
      "14         Kinect Adventures!        14           2010.0      3        144   \n",
      "15               Wii Fit Plus        12           2009.0     10        160   \n",
      "\n",
      "    NA_Sales  EU_Sales  JP_Sales  Other_Sales  Global_Sales  Critic_Score  \\\n",
      "0      41.36     28.96      3.77         8.45         82.53          76.0   \n",
      "2      15.68     12.76      3.79         3.29         35.52          82.0   \n",
      "3      15.61     10.93      3.28         2.95         32.77          80.0   \n",
      "6      11.28      9.14      6.50         2.88         29.80          89.0   \n",
      "7      13.96      9.18      2.93         2.84         28.92          58.0   \n",
      "8      14.44      6.94      4.70         2.24         28.32          87.0   \n",
      "11      9.71      7.47      4.13         1.90         23.21          91.0   \n",
      "13      8.92      8.03      3.60         2.15         22.70          80.0   \n",
      "14     15.00      4.89      0.24         1.69         21.81          61.0   \n",
      "15      9.01      8.49      2.53         1.77         21.79          80.0   \n",
      "\n",
      "    Critic_Count User_Score  User_Count  Developer  Rating  \n",
      "0           51.0          8       322.0        771       1  \n",
      "2           73.0        8.3       709.0        771       1  \n",
      "3           73.0          8       192.0        771       1  \n",
      "6           65.0        8.5       431.0        771       1  \n",
      "7           41.0        6.6       129.0        771       1  \n",
      "8           80.0        8.4       594.0        771       1  \n",
      "11          64.0        8.6       464.0        771       1  \n",
      "13          63.0        7.7       146.0        771       1  \n",
      "14          45.0        6.3       106.0        469       1  \n",
      "15          33.0        7.4        52.0        771       1  \n"
     ]
    }
   ],
   "execution_count": 19
  },
  {
   "metadata": {
    "ExecuteTime": {
     "end_time": "2024-06-07T13:12:16.283799Z",
     "start_time": "2024-06-07T13:12:15.794854Z"
    }
   },
   "cell_type": "code",
   "source": [
    "df_vg_no_outlier = df_vg_sales.drop(index=0)\n",
    "\n",
    "sales_data = df_vg_no_outlier['Global_Sales']\n",
    "\n",
    "plt.figure(figsize=(10,6))\n",
    "plt.hist(sales_data, bins=50, edgecolor='black')\n",
    "plt.title('Distribution of Global Sales')\n",
    "plt.xlabel('Global Sales in Millions')\n",
    "\n",
    "plt.yscale('log')\n",
    "plt.ylabel('Frequency')\n",
    "plt.show()"
   ],
   "outputs": [
    {
     "data": {
      "text/plain": [
       "<Figure size 1000x600 with 1 Axes>"
      ],
      "image/png": "[encoded data removed]"
     },
     "metadata": {},
     "output_type": "display_data"
    }
   ],
   "execution_count": 20
  },
  {
   "metadata": {
    "ExecuteTime": {
     "end_time": "2024-06-07T13:12:16.290181Z",
     "start_time": "2024-06-07T13:12:16.283799Z"
    }
   },
   "cell_type": "code",
   "source": [
    "import numpy\n",
    "\n",
    "res = numpy.power(3-2.4, 2) * 2/7 * 3 + numpy.power(1-2.4, 2) * 2/7 * 3 + numpy.power(4-2.4, 2) * 1/7 * 2 + numpy.power(2-2.4, 2) * 2/7 * 2\n",
    "\n",
    "print(res)\n"
   ],
   "outputs": [
    {
     "name": "stdout",
     "output_type": "stream",
     "text": [
      "2.811428571428571\n"
     ]
    }
   ],
   "execution_count": 21
  }
 ]
}
