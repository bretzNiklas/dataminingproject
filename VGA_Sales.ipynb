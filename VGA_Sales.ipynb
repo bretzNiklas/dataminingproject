{
 "nbformat": 4,
 "nbformat_minor": 0,
 "metadata": {
  "colab": {
   "provenance": []
  },
  "kernelspec": {
   "name": "python3",
   "language": "python",
   "display_name": "Python 3 (ipykernel)"
  },
  "language_info": {
   "name": "python"
  }
 },
 "cells": [
  {
   "cell_type": "code",
   "source": [
    "import pandas as pd\n",
    "path_to_csv = \"Video_Games_Sales_as_at_22_Dec_2016.csv\"\n",
    "df_vg_sales = pd.read_csv(path_to_csv)"
   ],
   "metadata": {
    "id": "IWUsJqkI5-jF",
    "ExecuteTime": {
     "end_time": "2024-05-11T17:57:53.273862100Z",
     "start_time": "2024-05-11T17:57:53.131670300Z"
    }
   },
   "execution_count": 15,
   "outputs": []
  },
  {
   "cell_type": "markdown",
   "source": [
    "**Let's have a look at the dataset**"
   ],
   "metadata": {
    "id": "vUUl95l99jIu"
   }
  },
  {
   "cell_type": "code",
   "source": [
    "df_vg_sales.head(10)"
   ],
   "metadata": {
    "colab": {
     "base_uri": "https://localhost:8080/",
     "height": 661
    },
    "id": "IBZPPtRp6Yrg",
    "outputId": "f4764efc-a465-467d-fa98-34b915900fb6",
    "ExecuteTime": {
     "end_time": "2024-05-11T17:51:09.240030200Z",
     "start_time": "2024-05-11T17:51:09.065710100Z"
    }
   },
   "execution_count": 3,
   "outputs": [
    {
     "data": {
      "text/plain": "                        Name Platform  Year_of_Release         Genre  \\\n0                 Wii Sports      Wii           2006.0        Sports   \n1          Super Mario Bros.      NES           1985.0      Platform   \n2             Mario Kart Wii      Wii           2008.0        Racing   \n3          Wii Sports Resort      Wii           2009.0        Sports   \n4   Pokemon Red/Pokemon Blue       GB           1996.0  Role-Playing   \n5                     Tetris       GB           1989.0        Puzzle   \n6      New Super Mario Bros.       DS           2006.0      Platform   \n7                   Wii Play      Wii           2006.0          Misc   \n8  New Super Mario Bros. Wii      Wii           2009.0      Platform   \n9                  Duck Hunt      NES           1984.0       Shooter   \n\n  Publisher  NA_Sales  EU_Sales  JP_Sales  Other_Sales  Global_Sales  \\\n0  Nintendo     41.36     28.96      3.77         8.45         82.53   \n1  Nintendo     29.08      3.58      6.81         0.77         40.24   \n2  Nintendo     15.68     12.76      3.79         3.29         35.52   \n3  Nintendo     15.61     10.93      3.28         2.95         32.77   \n4  Nintendo     11.27      8.89     10.22         1.00         31.37   \n5  Nintendo     23.20      2.26      4.22         0.58         30.26   \n6  Nintendo     11.28      9.14      6.50         2.88         29.80   \n7  Nintendo     13.96      9.18      2.93         2.84         28.92   \n8  Nintendo     14.44      6.94      4.70         2.24         28.32   \n9  Nintendo     26.93      0.63      0.28         0.47         28.31   \n\n   Critic_Score  Critic_Count User_Score  User_Count Developer Rating  \n0          76.0          51.0          8       322.0  Nintendo      E  \n1           NaN           NaN        NaN         NaN       NaN    NaN  \n2          82.0          73.0        8.3       709.0  Nintendo      E  \n3          80.0          73.0          8       192.0  Nintendo      E  \n4           NaN           NaN        NaN         NaN       NaN    NaN  \n5           NaN           NaN        NaN         NaN       NaN    NaN  \n6          89.0          65.0        8.5       431.0  Nintendo      E  \n7          58.0          41.0        6.6       129.0  Nintendo      E  \n8          87.0          80.0        8.4       594.0  Nintendo      E  \n9           NaN           NaN        NaN         NaN       NaN    NaN  ",
      "text/html": "<div>\n<style scoped>\n    .dataframe tbody tr th:only-of-type {\n        vertical-align: middle;\n    }\n\n    .dataframe tbody tr th {\n        vertical-align: top;\n    }\n\n    .dataframe thead th {\n        text-align: right;\n    }\n</style>\n<table border=\"1\" class=\"dataframe\">\n  <thead>\n    <tr style=\"text-align: right;\">\n      <th></th>\n      <th>Name</th>\n      <th>Platform</th>\n      <th>Year_of_Release</th>\n      <th>Genre</th>\n      <th>Publisher</th>\n      <th>NA_Sales</th>\n      <th>EU_Sales</th>\n      <th>JP_Sales</th>\n      <th>Other_Sales</th>\n      <th>Global_Sales</th>\n      <th>Critic_Score</th>\n      <th>Critic_Count</th>\n      <th>User_Score</th>\n      <th>User_Count</th>\n      <th>Developer</th>\n      <th>Rating</th>\n    </tr>\n  </thead>\n  <tbody>\n    <tr>\n      <th>0</th>\n      <td>Wii Sports</td>\n      <td>Wii</td>\n      <td>2006.0</td>\n      <td>Sports</td>\n      <td>Nintendo</td>\n      <td>41.36</td>\n      <td>28.96</td>\n      <td>3.77</td>\n      <td>8.45</td>\n      <td>82.53</td>\n      <td>76.0</td>\n      <td>51.0</td>\n      <td>8</td>\n      <td>322.0</td>\n      <td>Nintendo</td>\n      <td>E</td>\n    </tr>\n    <tr>\n      <th>1</th>\n      <td>Super Mario Bros.</td>\n      <td>NES</td>\n      <td>1985.0</td>\n      <td>Platform</td>\n      <td>Nintendo</td>\n      <td>29.08</td>\n      <td>3.58</td>\n      <td>6.81</td>\n      <td>0.77</td>\n      <td>40.24</td>\n      <td>NaN</td>\n      <td>NaN</td>\n      <td>NaN</td>\n      <td>NaN</td>\n      <td>NaN</td>\n      <td>NaN</td>\n    </tr>\n    <tr>\n      <th>2</th>\n      <td>Mario Kart Wii</td>\n      <td>Wii</td>\n      <td>2008.0</td>\n      <td>Racing</td>\n      <td>Nintendo</td>\n      <td>15.68</td>\n      <td>12.76</td>\n      <td>3.79</td>\n      <td>3.29</td>\n      <td>35.52</td>\n      <td>82.0</td>\n      <td>73.0</td>\n      <td>8.3</td>\n      <td>709.0</td>\n      <td>Nintendo</td>\n      <td>E</td>\n    </tr>\n    <tr>\n      <th>3</th>\n      <td>Wii Sports Resort</td>\n      <td>Wii</td>\n      <td>2009.0</td>\n      <td>Sports</td>\n      <td>Nintendo</td>\n      <td>15.61</td>\n      <td>10.93</td>\n      <td>3.28</td>\n      <td>2.95</td>\n      <td>32.77</td>\n      <td>80.0</td>\n      <td>73.0</td>\n      <td>8</td>\n      <td>192.0</td>\n      <td>Nintendo</td>\n      <td>E</td>\n    </tr>\n    <tr>\n      <th>4</th>\n      <td>Pokemon Red/Pokemon Blue</td>\n      <td>GB</td>\n      <td>1996.0</td>\n      <td>Role-Playing</td>\n      <td>Nintendo</td>\n      <td>11.27</td>\n      <td>8.89</td>\n      <td>10.22</td>\n      <td>1.00</td>\n      <td>31.37</td>\n      <td>NaN</td>\n      <td>NaN</td>\n      <td>NaN</td>\n      <td>NaN</td>\n      <td>NaN</td>\n      <td>NaN</td>\n    </tr>\n    <tr>\n      <th>5</th>\n      <td>Tetris</td>\n      <td>GB</td>\n      <td>1989.0</td>\n      <td>Puzzle</td>\n      <td>Nintendo</td>\n      <td>23.20</td>\n      <td>2.26</td>\n      <td>4.22</td>\n      <td>0.58</td>\n      <td>30.26</td>\n      <td>NaN</td>\n      <td>NaN</td>\n      <td>NaN</td>\n      <td>NaN</td>\n      <td>NaN</td>\n      <td>NaN</td>\n    </tr>\n    <tr>\n      <th>6</th>\n      <td>New Super Mario Bros.</td>\n      <td>DS</td>\n      <td>2006.0</td>\n      <td>Platform</td>\n      <td>Nintendo</td>\n      <td>11.28</td>\n      <td>9.14</td>\n      <td>6.50</td>\n      <td>2.88</td>\n      <td>29.80</td>\n      <td>89.0</td>\n      <td>65.0</td>\n      <td>8.5</td>\n      <td>431.0</td>\n      <td>Nintendo</td>\n      <td>E</td>\n    </tr>\n    <tr>\n      <th>7</th>\n      <td>Wii Play</td>\n      <td>Wii</td>\n      <td>2006.0</td>\n      <td>Misc</td>\n      <td>Nintendo</td>\n      <td>13.96</td>\n      <td>9.18</td>\n      <td>2.93</td>\n      <td>2.84</td>\n      <td>28.92</td>\n      <td>58.0</td>\n      <td>41.0</td>\n      <td>6.6</td>\n      <td>129.0</td>\n      <td>Nintendo</td>\n      <td>E</td>\n    </tr>\n    <tr>\n      <th>8</th>\n      <td>New Super Mario Bros. Wii</td>\n      <td>Wii</td>\n      <td>2009.0</td>\n      <td>Platform</td>\n      <td>Nintendo</td>\n      <td>14.44</td>\n      <td>6.94</td>\n      <td>4.70</td>\n      <td>2.24</td>\n      <td>28.32</td>\n      <td>87.0</td>\n      <td>80.0</td>\n      <td>8.4</td>\n      <td>594.0</td>\n      <td>Nintendo</td>\n      <td>E</td>\n    </tr>\n    <tr>\n      <th>9</th>\n      <td>Duck Hunt</td>\n      <td>NES</td>\n      <td>1984.0</td>\n      <td>Shooter</td>\n      <td>Nintendo</td>\n      <td>26.93</td>\n      <td>0.63</td>\n      <td>0.28</td>\n      <td>0.47</td>\n      <td>28.31</td>\n      <td>NaN</td>\n      <td>NaN</td>\n      <td>NaN</td>\n      <td>NaN</td>\n      <td>NaN</td>\n      <td>NaN</td>\n    </tr>\n  </tbody>\n</table>\n</div>"
     },
     "execution_count": 3,
     "metadata": {},
     "output_type": "execute_result"
    }
   ]
  },
  {
   "cell_type": "markdown",
   "source": [
    "We select our features as 'Critic_Score', 'Year_of_Release', 'Genre'. We want to predict 'Global Sales'.\n",
    "**Drop 'NA' Values in the respective columns**"
   ],
   "metadata": {
    "id": "t_jJ5i1B6y-M"
   }
  },
  {
   "cell_type": "code",
   "source": [
    "feature_columns = ['Critic_Score', 'Critic_Count', 'Year_of_Release', 'Genre', 'User_Score', 'User_Count', 'Developer', 'Rating', 'Platform', 'Genre', 'Publisher']\n",
    "prediction_column = ['Global_Sales']\n",
    "all_columns = feature_columns + prediction_column\n",
    "\n",
    "print(\"Dropping NA Values in following columns\")\n",
    "for column in all_columns:\n",
    "  print(column)\n",
    "print(f\"Before dropping NA Values Video Game Sales Data has {df_vg_sales.shape[0]} entries with a total of {df_vg_sales.shape[1]} columns.\")\n",
    "df_vg_sales = df_vg_sales.dropna(subset=all_columns)\n",
    "print(f\"After dropping NA Values: Video Game Sales Data has {df_vg_sales.shape[0]} entries with a total of {df_vg_sales.shape[1]} columns.\")"
   ],
   "metadata": {
    "colab": {
     "base_uri": "https://localhost:8080/"
    },
    "id": "DWslmdQ86Nym",
    "outputId": "c88a5444-b56b-4bcf-9cae-7b49b6a5c76d",
    "ExecuteTime": {
     "end_time": "2024-05-11T17:57:55.884085200Z",
     "start_time": "2024-05-11T17:57:55.830504700Z"
    }
   },
   "execution_count": 16,
   "outputs": [
    {
     "name": "stdout",
     "output_type": "stream",
     "text": [
      "Dropping NA Values in following columns\n",
      "Critic_Score\n",
      "Critic_Count\n",
      "Year_of_Release\n",
      "Genre\n",
      "User_Score\n",
      "User_Count\n",
      "Developer\n",
      "Rating\n",
      "Platform\n",
      "Genre\n",
      "Publisher\n",
      "Global_Sales\n",
      "Before dropping NA Values Video Game Sales Data has 16719 entries with a total of 16 columns.\n",
      "After dropping NA Values: Video Game Sales Data has 6825 entries with a total of 16 columns.\n"
     ]
    }
   ]
  },
  {
   "cell_type": "code",
   "source": [
    "df_vg_sales[all_columns].head(10)"
   ],
   "metadata": {
    "colab": {
     "base_uri": "https://localhost:8080/",
     "height": 363
    },
    "id": "CF2aDszqBuoS",
    "outputId": "1cb7ed34-bc18-4be7-e15c-9bc7cb9ccb72",
    "ExecuteTime": {
     "end_time": "2024-05-11T17:58:17.341098300Z",
     "start_time": "2024-05-11T17:58:17.309951100Z"
    }
   },
   "execution_count": 18,
   "outputs": [
    {
     "data": {
      "text/plain": "    Critic_Score  Critic_Count  Year_of_Release     Genre User_Score  \\\n0           76.0          51.0           2006.0    Sports          8   \n2           82.0          73.0           2008.0    Racing        8.3   \n3           80.0          73.0           2009.0    Sports          8   \n6           89.0          65.0           2006.0  Platform        8.5   \n7           58.0          41.0           2006.0      Misc        6.6   \n8           87.0          80.0           2009.0  Platform        8.4   \n11          91.0          64.0           2005.0    Racing        8.6   \n13          80.0          63.0           2007.0    Sports        7.7   \n14          61.0          45.0           2010.0      Misc        6.3   \n15          80.0          33.0           2009.0    Sports        7.4   \n\n    User_Count            Developer Rating Platform     Genre  \\\n0        322.0             Nintendo      E      Wii    Sports   \n2        709.0             Nintendo      E      Wii    Racing   \n3        192.0             Nintendo      E      Wii    Sports   \n6        431.0             Nintendo      E       DS  Platform   \n7        129.0             Nintendo      E      Wii      Misc   \n8        594.0             Nintendo      E      Wii  Platform   \n11       464.0             Nintendo      E       DS    Racing   \n13       146.0             Nintendo      E      Wii    Sports   \n14       106.0  Good Science Studio      E     X360      Misc   \n15        52.0             Nintendo      E      Wii    Sports   \n\n                 Publisher  Global_Sales  \n0                 Nintendo         82.53  \n2                 Nintendo         35.52  \n3                 Nintendo         32.77  \n6                 Nintendo         29.80  \n7                 Nintendo         28.92  \n8                 Nintendo         28.32  \n11                Nintendo         23.21  \n13                Nintendo         22.70  \n14  Microsoft Game Studios         21.81  \n15                Nintendo         21.79  ",
      "text/html": "<div>\n<style scoped>\n    .dataframe tbody tr th:only-of-type {\n        vertical-align: middle;\n    }\n\n    .dataframe tbody tr th {\n        vertical-align: top;\n    }\n\n    .dataframe thead th {\n        text-align: right;\n    }\n</style>\n<table border=\"1\" class=\"dataframe\">\n  <thead>\n    <tr style=\"text-align: right;\">\n      <th></th>\n      <th>Critic_Score</th>\n      <th>Critic_Count</th>\n      <th>Year_of_Release</th>\n      <th>Genre</th>\n      <th>User_Score</th>\n      <th>User_Count</th>\n      <th>Developer</th>\n      <th>Rating</th>\n      <th>Platform</th>\n      <th>Genre</th>\n      <th>Publisher</th>\n      <th>Global_Sales</th>\n    </tr>\n  </thead>\n  <tbody>\n    <tr>\n      <th>0</th>\n      <td>76.0</td>\n      <td>51.0</td>\n      <td>2006.0</td>\n      <td>Sports</td>\n      <td>8</td>\n      <td>322.0</td>\n      <td>Nintendo</td>\n      <td>E</td>\n      <td>Wii</td>\n      <td>Sports</td>\n      <td>Nintendo</td>\n      <td>82.53</td>\n    </tr>\n    <tr>\n      <th>2</th>\n      <td>82.0</td>\n      <td>73.0</td>\n      <td>2008.0</td>\n      <td>Racing</td>\n      <td>8.3</td>\n      <td>709.0</td>\n      <td>Nintendo</td>\n      <td>E</td>\n      <td>Wii</td>\n      <td>Racing</td>\n      <td>Nintendo</td>\n      <td>35.52</td>\n    </tr>\n    <tr>\n      <th>3</th>\n      <td>80.0</td>\n      <td>73.0</td>\n      <td>2009.0</td>\n      <td>Sports</td>\n      <td>8</td>\n      <td>192.0</td>\n      <td>Nintendo</td>\n      <td>E</td>\n      <td>Wii</td>\n      <td>Sports</td>\n      <td>Nintendo</td>\n      <td>32.77</td>\n    </tr>\n    <tr>\n      <th>6</th>\n      <td>89.0</td>\n      <td>65.0</td>\n      <td>2006.0</td>\n      <td>Platform</td>\n      <td>8.5</td>\n      <td>431.0</td>\n      <td>Nintendo</td>\n      <td>E</td>\n      <td>DS</td>\n      <td>Platform</td>\n      <td>Nintendo</td>\n      <td>29.80</td>\n    </tr>\n    <tr>\n      <th>7</th>\n      <td>58.0</td>\n      <td>41.0</td>\n      <td>2006.0</td>\n      <td>Misc</td>\n      <td>6.6</td>\n      <td>129.0</td>\n      <td>Nintendo</td>\n      <td>E</td>\n      <td>Wii</td>\n      <td>Misc</td>\n      <td>Nintendo</td>\n      <td>28.92</td>\n    </tr>\n    <tr>\n      <th>8</th>\n      <td>87.0</td>\n      <td>80.0</td>\n      <td>2009.0</td>\n      <td>Platform</td>\n      <td>8.4</td>\n      <td>594.0</td>\n      <td>Nintendo</td>\n      <td>E</td>\n      <td>Wii</td>\n      <td>Platform</td>\n      <td>Nintendo</td>\n      <td>28.32</td>\n    </tr>\n    <tr>\n      <th>11</th>\n      <td>91.0</td>\n      <td>64.0</td>\n      <td>2005.0</td>\n      <td>Racing</td>\n      <td>8.6</td>\n      <td>464.0</td>\n      <td>Nintendo</td>\n      <td>E</td>\n      <td>DS</td>\n      <td>Racing</td>\n      <td>Nintendo</td>\n      <td>23.21</td>\n    </tr>\n    <tr>\n      <th>13</th>\n      <td>80.0</td>\n      <td>63.0</td>\n      <td>2007.0</td>\n      <td>Sports</td>\n      <td>7.7</td>\n      <td>146.0</td>\n      <td>Nintendo</td>\n      <td>E</td>\n      <td>Wii</td>\n      <td>Sports</td>\n      <td>Nintendo</td>\n      <td>22.70</td>\n    </tr>\n    <tr>\n      <th>14</th>\n      <td>61.0</td>\n      <td>45.0</td>\n      <td>2010.0</td>\n      <td>Misc</td>\n      <td>6.3</td>\n      <td>106.0</td>\n      <td>Good Science Studio</td>\n      <td>E</td>\n      <td>X360</td>\n      <td>Misc</td>\n      <td>Microsoft Game Studios</td>\n      <td>21.81</td>\n    </tr>\n    <tr>\n      <th>15</th>\n      <td>80.0</td>\n      <td>33.0</td>\n      <td>2009.0</td>\n      <td>Sports</td>\n      <td>7.4</td>\n      <td>52.0</td>\n      <td>Nintendo</td>\n      <td>E</td>\n      <td>Wii</td>\n      <td>Sports</td>\n      <td>Nintendo</td>\n      <td>21.79</td>\n    </tr>\n  </tbody>\n</table>\n</div>"
     },
     "execution_count": 18,
     "metadata": {},
     "output_type": "execute_result"
    }
   ]
  },
  {
   "cell_type": "markdown",
   "source": [
    "Convert caterogical values into numbers/integers\n",
    "\n",
    "PS3 -> 0\n",
    "Wii -> 1\n",
    ".\n",
    ".\n",
    ".\n",
    "\n"
   ],
   "metadata": {
    "id": "I08LHagU-Jk0"
   }
  },
  {
   "cell_type": "code",
   "source": [
    "from sklearn.model_selection import train_test_split\n",
    "from sklearn.linear_model import LinearRegression\n",
    "from sklearn.metrics import mean_squared_error\n",
    "from sklearn.preprocessing import LabelEncoder, StandardScaler\n",
    "\n",
    "label_encoder = LabelEncoder()\n",
    "for column in feature_columns:\n",
    "  df_vg_sales[column] = label_encoder.fit_transform(df_vg_sales[column])"
   ],
   "metadata": {
    "id": "g3pf_7TR7iqC",
    "ExecuteTime": {
     "end_time": "2024-05-11T17:58:19.716789700Z",
     "start_time": "2024-05-11T17:58:19.621983800Z"
    }
   },
   "execution_count": 19,
   "outputs": []
  },
  {
   "cell_type": "code",
   "source": [
    "df_vg_sales.head(10)"
   ],
   "metadata": {
    "colab": {
     "base_uri": "https://localhost:8080/",
     "height": 522
    },
    "id": "8vliIwBDAkHg",
    "outputId": "43c9d8b4-c80f-4ea2-e117-f4e0652e887c",
    "ExecuteTime": {
     "end_time": "2024-05-11T17:58:21.051618400Z",
     "start_time": "2024-05-11T17:58:21.014988100Z"
    }
   },
   "execution_count": 20,
   "outputs": [
    {
     "data": {
      "text/plain": "                         Name  Platform  Year_of_Release  Genre  Publisher  \\\n0                  Wii Sports        12               14     10        160   \n2              Mario Kart Wii        12               16      6        160   \n3           Wii Sports Resort        12               17     10        160   \n6       New Super Mario Bros.         2               14      4        160   \n7                    Wii Play        12               14      3        160   \n8   New Super Mario Bros. Wii        12               17      4        160   \n11              Mario Kart DS         2               13      6        160   \n13                    Wii Fit        12               15     10        160   \n14         Kinect Adventures!        14               18      3        144   \n15               Wii Fit Plus        12               17     10        160   \n\n    NA_Sales  EU_Sales  JP_Sales  Other_Sales  Global_Sales  Critic_Score  \\\n0      41.36     28.96      3.77         8.45         82.53            58   \n2      15.68     12.76      3.79         3.29         35.52            64   \n3      15.61     10.93      3.28         2.95         32.77            62   \n6      11.28      9.14      6.50         2.88         29.80            71   \n7      13.96      9.18      2.93         2.84         28.92            40   \n8      14.44      6.94      4.70         2.24         28.32            69   \n11      9.71      7.47      4.13         1.90         23.21            73   \n13      8.92      8.03      3.60         2.15         22.70            62   \n14     15.00      4.89      0.24         1.69         21.81            43   \n15      9.01      8.49      2.53         1.77         21.79            62   \n\n    Critic_Count  User_Score  User_Count  Developer  Rating  \n0             48          72         305        771       1  \n2             70          75         523        771       1  \n3             70          72         187        771       1  \n6             62          77         380        771       1  \n7             38          58         125        771       1  \n8             77          76         475        771       1  \n11            61          78         405        771       1  \n13            60          69         141        771       1  \n14            42          55         102        469       1  \n15            30          66          48        771       1  ",
      "text/html": "<div>\n<style scoped>\n    .dataframe tbody tr th:only-of-type {\n        vertical-align: middle;\n    }\n\n    .dataframe tbody tr th {\n        vertical-align: top;\n    }\n\n    .dataframe thead th {\n        text-align: right;\n    }\n</style>\n<table border=\"1\" class=\"dataframe\">\n  <thead>\n    <tr style=\"text-align: right;\">\n      <th></th>\n      <th>Name</th>\n      <th>Platform</th>\n      <th>Year_of_Release</th>\n      <th>Genre</th>\n      <th>Publisher</th>\n      <th>NA_Sales</th>\n      <th>EU_Sales</th>\n      <th>JP_Sales</th>\n      <th>Other_Sales</th>\n      <th>Global_Sales</th>\n      <th>Critic_Score</th>\n      <th>Critic_Count</th>\n      <th>User_Score</th>\n      <th>User_Count</th>\n      <th>Developer</th>\n      <th>Rating</th>\n    </tr>\n  </thead>\n  <tbody>\n    <tr>\n      <th>0</th>\n      <td>Wii Sports</td>\n      <td>12</td>\n      <td>14</td>\n      <td>10</td>\n      <td>160</td>\n      <td>41.36</td>\n      <td>28.96</td>\n      <td>3.77</td>\n      <td>8.45</td>\n      <td>82.53</td>\n      <td>58</td>\n      <td>48</td>\n      <td>72</td>\n      <td>305</td>\n      <td>771</td>\n      <td>1</td>\n    </tr>\n    <tr>\n      <th>2</th>\n      <td>Mario Kart Wii</td>\n      <td>12</td>\n      <td>16</td>\n      <td>6</td>\n      <td>160</td>\n      <td>15.68</td>\n      <td>12.76</td>\n      <td>3.79</td>\n      <td>3.29</td>\n      <td>35.52</td>\n      <td>64</td>\n      <td>70</td>\n      <td>75</td>\n      <td>523</td>\n      <td>771</td>\n      <td>1</td>\n    </tr>\n    <tr>\n      <th>3</th>\n      <td>Wii Sports Resort</td>\n      <td>12</td>\n      <td>17</td>\n      <td>10</td>\n      <td>160</td>\n      <td>15.61</td>\n      <td>10.93</td>\n      <td>3.28</td>\n      <td>2.95</td>\n      <td>32.77</td>\n      <td>62</td>\n      <td>70</td>\n      <td>72</td>\n      <td>187</td>\n      <td>771</td>\n      <td>1</td>\n    </tr>\n    <tr>\n      <th>6</th>\n      <td>New Super Mario Bros.</td>\n      <td>2</td>\n      <td>14</td>\n      <td>4</td>\n      <td>160</td>\n      <td>11.28</td>\n      <td>9.14</td>\n      <td>6.50</td>\n      <td>2.88</td>\n      <td>29.80</td>\n      <td>71</td>\n      <td>62</td>\n      <td>77</td>\n      <td>380</td>\n      <td>771</td>\n      <td>1</td>\n    </tr>\n    <tr>\n      <th>7</th>\n      <td>Wii Play</td>\n      <td>12</td>\n      <td>14</td>\n      <td>3</td>\n      <td>160</td>\n      <td>13.96</td>\n      <td>9.18</td>\n      <td>2.93</td>\n      <td>2.84</td>\n      <td>28.92</td>\n      <td>40</td>\n      <td>38</td>\n      <td>58</td>\n      <td>125</td>\n      <td>771</td>\n      <td>1</td>\n    </tr>\n    <tr>\n      <th>8</th>\n      <td>New Super Mario Bros. Wii</td>\n      <td>12</td>\n      <td>17</td>\n      <td>4</td>\n      <td>160</td>\n      <td>14.44</td>\n      <td>6.94</td>\n      <td>4.70</td>\n      <td>2.24</td>\n      <td>28.32</td>\n      <td>69</td>\n      <td>77</td>\n      <td>76</td>\n      <td>475</td>\n      <td>771</td>\n      <td>1</td>\n    </tr>\n    <tr>\n      <th>11</th>\n      <td>Mario Kart DS</td>\n      <td>2</td>\n      <td>13</td>\n      <td>6</td>\n      <td>160</td>\n      <td>9.71</td>\n      <td>7.47</td>\n      <td>4.13</td>\n      <td>1.90</td>\n      <td>23.21</td>\n      <td>73</td>\n      <td>61</td>\n      <td>78</td>\n      <td>405</td>\n      <td>771</td>\n      <td>1</td>\n    </tr>\n    <tr>\n      <th>13</th>\n      <td>Wii Fit</td>\n      <td>12</td>\n      <td>15</td>\n      <td>10</td>\n      <td>160</td>\n      <td>8.92</td>\n      <td>8.03</td>\n      <td>3.60</td>\n      <td>2.15</td>\n      <td>22.70</td>\n      <td>62</td>\n      <td>60</td>\n      <td>69</td>\n      <td>141</td>\n      <td>771</td>\n      <td>1</td>\n    </tr>\n    <tr>\n      <th>14</th>\n      <td>Kinect Adventures!</td>\n      <td>14</td>\n      <td>18</td>\n      <td>3</td>\n      <td>144</td>\n      <td>15.00</td>\n      <td>4.89</td>\n      <td>0.24</td>\n      <td>1.69</td>\n      <td>21.81</td>\n      <td>43</td>\n      <td>42</td>\n      <td>55</td>\n      <td>102</td>\n      <td>469</td>\n      <td>1</td>\n    </tr>\n    <tr>\n      <th>15</th>\n      <td>Wii Fit Plus</td>\n      <td>12</td>\n      <td>17</td>\n      <td>10</td>\n      <td>160</td>\n      <td>9.01</td>\n      <td>8.49</td>\n      <td>2.53</td>\n      <td>1.77</td>\n      <td>21.79</td>\n      <td>62</td>\n      <td>30</td>\n      <td>66</td>\n      <td>48</td>\n      <td>771</td>\n      <td>1</td>\n    </tr>\n  </tbody>\n</table>\n</div>"
     },
     "execution_count": 20,
     "metadata": {},
     "output_type": "execute_result"
    }
   ]
  },
  {
   "cell_type": "markdown",
   "source": [
    "Select features and prediction columns"
   ],
   "metadata": {
    "collapsed": false
   }
  },
  {
   "cell_type": "code",
   "execution_count": 21,
   "outputs": [],
   "source": [
    "features = df_vg_sales[feature_columns]\n",
    "target = df_vg_sales[prediction_column]"
   ],
   "metadata": {
    "collapsed": false,
    "ExecuteTime": {
     "end_time": "2024-05-11T17:58:24.172603500Z",
     "start_time": "2024-05-11T17:58:24.156771500Z"
    }
   }
  },
  {
   "cell_type": "markdown",
   "source": [],
   "metadata": {
    "collapsed": false
   }
  },
  {
   "cell_type": "code",
   "source": [
    "# Splitting data into training and testing sets\n",
    "X_train, X_test, y_train, y_test = train_test_split(features, target, test_size=0.2, random_state=42)"
   ],
   "metadata": {
    "id": "fBP4SZ_598cz",
    "ExecuteTime": {
     "end_time": "2024-05-11T17:58:25.655105400Z",
     "start_time": "2024-05-11T17:58:25.607087200Z"
    }
   },
   "execution_count": 22,
   "outputs": []
  },
  {
   "cell_type": "markdown",
   "source": [],
   "metadata": {
    "id": "p99pWtbmA0pP"
   }
  },
  {
   "cell_type": "code",
   "source": [
    "# Standardizing features\n",
    "scaler = StandardScaler()\n",
    "X_train_scaled = scaler.fit_transform(X_train)\n",
    "X_test_scaled = scaler.transform(X_test)"
   ],
   "metadata": {
    "id": "3Dt5Dpt599wC",
    "ExecuteTime": {
     "end_time": "2024-05-11T17:58:26.893956400Z",
     "start_time": "2024-05-11T17:58:26.793804700Z"
    }
   },
   "execution_count": 23,
   "outputs": []
  },
  {
   "cell_type": "code",
   "source": [
    "X_train.head(10)"
   ],
   "metadata": {
    "colab": {
     "base_uri": "https://localhost:8080/",
     "height": 363
    },
    "id": "zAC01v3AAxeY",
    "outputId": "538ef02d-21f0-4f03-e4f7-ed80cf7d8f52",
    "ExecuteTime": {
     "end_time": "2024-05-11T17:58:28.696812600Z",
     "start_time": "2024-05-11T17:58:28.665551200Z"
    }
   },
   "execution_count": 24,
   "outputs": [
    {
     "data": {
      "text/plain": "       Critic_Score  Critic_Count  Year_of_Release  Genre  User_Score  \\\n2160             69            26               13      0          78   \n2976             71            26               12     10          72   \n3430             59            53               20      2          54   \n7997             54            24               11      0          81   \n10814            60            27               16      8          69   \n5695             54            39               17      0          68   \n14533            48            13               13      9          70   \n6326             51            17               22      0          60   \n9456             32            28               16      8          63   \n15941            57             5                9     11          68   \n\n       User_Count  Developer  Rating  Platform  Genre  Publisher  \n2160           49       1189       4         7      0        237  \n2976            8        345       1        15     10         61  \n3430          120        863       6        14      2        155  \n7997           43        385       6         7      0        246  \n10814          13        184       1        12      8         60  \n5695           20       1173       6         8      0         41  \n14533           6        463       6         7      9        123  \n6326           32       1101       2        16      0        249  \n9456           27       1035       4         8      8         22  \n15941          64       1116       1         5     11        244  ",
      "text/html": "<div>\n<style scoped>\n    .dataframe tbody tr th:only-of-type {\n        vertical-align: middle;\n    }\n\n    .dataframe tbody tr th {\n        vertical-align: top;\n    }\n\n    .dataframe thead th {\n        text-align: right;\n    }\n</style>\n<table border=\"1\" class=\"dataframe\">\n  <thead>\n    <tr style=\"text-align: right;\">\n      <th></th>\n      <th>Critic_Score</th>\n      <th>Critic_Count</th>\n      <th>Year_of_Release</th>\n      <th>Genre</th>\n      <th>User_Score</th>\n      <th>User_Count</th>\n      <th>Developer</th>\n      <th>Rating</th>\n      <th>Platform</th>\n      <th>Genre</th>\n      <th>Publisher</th>\n    </tr>\n  </thead>\n  <tbody>\n    <tr>\n      <th>2160</th>\n      <td>69</td>\n      <td>26</td>\n      <td>13</td>\n      <td>0</td>\n      <td>78</td>\n      <td>49</td>\n      <td>1189</td>\n      <td>4</td>\n      <td>7</td>\n      <td>0</td>\n      <td>237</td>\n    </tr>\n    <tr>\n      <th>2976</th>\n      <td>71</td>\n      <td>26</td>\n      <td>12</td>\n      <td>10</td>\n      <td>72</td>\n      <td>8</td>\n      <td>345</td>\n      <td>1</td>\n      <td>15</td>\n      <td>10</td>\n      <td>61</td>\n    </tr>\n    <tr>\n      <th>3430</th>\n      <td>59</td>\n      <td>53</td>\n      <td>20</td>\n      <td>2</td>\n      <td>54</td>\n      <td>120</td>\n      <td>863</td>\n      <td>6</td>\n      <td>14</td>\n      <td>2</td>\n      <td>155</td>\n    </tr>\n    <tr>\n      <th>7997</th>\n      <td>54</td>\n      <td>24</td>\n      <td>11</td>\n      <td>0</td>\n      <td>81</td>\n      <td>43</td>\n      <td>385</td>\n      <td>6</td>\n      <td>7</td>\n      <td>0</td>\n      <td>246</td>\n    </tr>\n    <tr>\n      <th>10814</th>\n      <td>60</td>\n      <td>27</td>\n      <td>16</td>\n      <td>8</td>\n      <td>69</td>\n      <td>13</td>\n      <td>184</td>\n      <td>1</td>\n      <td>12</td>\n      <td>8</td>\n      <td>60</td>\n    </tr>\n    <tr>\n      <th>5695</th>\n      <td>54</td>\n      <td>39</td>\n      <td>17</td>\n      <td>0</td>\n      <td>68</td>\n      <td>20</td>\n      <td>1173</td>\n      <td>6</td>\n      <td>8</td>\n      <td>0</td>\n      <td>41</td>\n    </tr>\n    <tr>\n      <th>14533</th>\n      <td>48</td>\n      <td>13</td>\n      <td>13</td>\n      <td>9</td>\n      <td>70</td>\n      <td>6</td>\n      <td>463</td>\n      <td>6</td>\n      <td>7</td>\n      <td>9</td>\n      <td>123</td>\n    </tr>\n    <tr>\n      <th>6326</th>\n      <td>51</td>\n      <td>17</td>\n      <td>22</td>\n      <td>0</td>\n      <td>60</td>\n      <td>32</td>\n      <td>1101</td>\n      <td>2</td>\n      <td>16</td>\n      <td>0</td>\n      <td>249</td>\n    </tr>\n    <tr>\n      <th>9456</th>\n      <td>32</td>\n      <td>28</td>\n      <td>16</td>\n      <td>8</td>\n      <td>63</td>\n      <td>27</td>\n      <td>1035</td>\n      <td>4</td>\n      <td>8</td>\n      <td>8</td>\n      <td>22</td>\n    </tr>\n    <tr>\n      <th>15941</th>\n      <td>57</td>\n      <td>5</td>\n      <td>9</td>\n      <td>11</td>\n      <td>68</td>\n      <td>64</td>\n      <td>1116</td>\n      <td>1</td>\n      <td>5</td>\n      <td>11</td>\n      <td>244</td>\n    </tr>\n  </tbody>\n</table>\n</div>"
     },
     "execution_count": 24,
     "metadata": {},
     "output_type": "execute_result"
    }
   ]
  },
  {
   "cell_type": "code",
   "source": [
    "y_train.head(10)"
   ],
   "metadata": {
    "colab": {
     "base_uri": "https://localhost:8080/"
    },
    "id": "xPR_K8QOC1sR",
    "outputId": "a142ffc3-6f41-491a-b640-4259e6aa1db3",
    "ExecuteTime": {
     "end_time": "2024-05-11T17:58:30.501896900Z",
     "start_time": "2024-05-11T17:58:30.469786200Z"
    }
   },
   "execution_count": 25,
   "outputs": [
    {
     "data": {
      "text/plain": "       Global_Sales\n2160           0.95\n2976           0.68\n3430           0.58\n7997           0.18\n10814          0.10\n5695           0.32\n14533          0.03\n6326           0.27\n9456           0.13\n15941          0.02",
      "text/html": "<div>\n<style scoped>\n    .dataframe tbody tr th:only-of-type {\n        vertical-align: middle;\n    }\n\n    .dataframe tbody tr th {\n        vertical-align: top;\n    }\n\n    .dataframe thead th {\n        text-align: right;\n    }\n</style>\n<table border=\"1\" class=\"dataframe\">\n  <thead>\n    <tr style=\"text-align: right;\">\n      <th></th>\n      <th>Global_Sales</th>\n    </tr>\n  </thead>\n  <tbody>\n    <tr>\n      <th>2160</th>\n      <td>0.95</td>\n    </tr>\n    <tr>\n      <th>2976</th>\n      <td>0.68</td>\n    </tr>\n    <tr>\n      <th>3430</th>\n      <td>0.58</td>\n    </tr>\n    <tr>\n      <th>7997</th>\n      <td>0.18</td>\n    </tr>\n    <tr>\n      <th>10814</th>\n      <td>0.10</td>\n    </tr>\n    <tr>\n      <th>5695</th>\n      <td>0.32</td>\n    </tr>\n    <tr>\n      <th>14533</th>\n      <td>0.03</td>\n    </tr>\n    <tr>\n      <th>6326</th>\n      <td>0.27</td>\n    </tr>\n    <tr>\n      <th>9456</th>\n      <td>0.13</td>\n    </tr>\n    <tr>\n      <th>15941</th>\n      <td>0.02</td>\n    </tr>\n  </tbody>\n</table>\n</div>"
     },
     "execution_count": 25,
     "metadata": {},
     "output_type": "execute_result"
    }
   ]
  },
  {
   "cell_type": "code",
   "execution_count": 26,
   "outputs": [
    {
     "data": {
      "text/plain": "LinearRegression()",
      "text/html": "<style>#sk-container-id-1 {\n  /* Definition of color scheme common for light and dark mode */\n  --sklearn-color-text: black;\n  --sklearn-color-line: gray;\n  /* Definition of color scheme for unfitted estimators */\n  --sklearn-color-unfitted-level-0: #fff5e6;\n  --sklearn-color-unfitted-level-1: #f6e4d2;\n  --sklearn-color-unfitted-level-2: #ffe0b3;\n  --sklearn-color-unfitted-level-3: chocolate;\n  /* Definition of color scheme for fitted estimators */\n  --sklearn-color-fitted-level-0: #f0f8ff;\n  --sklearn-color-fitted-level-1: #d4ebff;\n  --sklearn-color-fitted-level-2: #b3dbfd;\n  --sklearn-color-fitted-level-3: cornflowerblue;\n\n  /* Specific color for light theme */\n  --sklearn-color-text-on-default-background: var(--sg-text-color, var(--theme-code-foreground, var(--jp-content-font-color1, black)));\n  --sklearn-color-background: var(--sg-background-color, var(--theme-background, var(--jp-layout-color0, white)));\n  --sklearn-color-border-box: var(--sg-text-color, var(--theme-code-foreground, var(--jp-content-font-color1, black)));\n  --sklearn-color-icon: #696969;\n\n  @media (prefers-color-scheme: dark) {\n    /* Redefinition of color scheme for dark theme */\n    --sklearn-color-text-on-default-background: var(--sg-text-color, var(--theme-code-foreground, var(--jp-content-font-color1, white)));\n    --sklearn-color-background: var(--sg-background-color, var(--theme-background, var(--jp-layout-color0, #111)));\n    --sklearn-color-border-box: var(--sg-text-color, var(--theme-code-foreground, var(--jp-content-font-color1, white)));\n    --sklearn-color-icon: #878787;\n  }\n}\n\n#sk-container-id-1 {\n  color: var(--sklearn-color-text);\n}\n\n#sk-container-id-1 pre {\n  padding: 0;\n}\n\n#sk-container-id-1 input.sk-hidden--visually {\n  border: 0;\n  clip: rect(1px 1px 1px 1px);\n  clip: rect(1px, 1px, 1px, 1px);\n  height: 1px;\n  margin: -1px;\n  overflow: hidden;\n  padding: 0;\n  position: absolute;\n  width: 1px;\n}\n\n#sk-container-id-1 div.sk-dashed-wrapped {\n  border: 1px dashed var(--sklearn-color-line);\n  margin: 0 0.4em 0.5em 0.4em;\n  box-sizing: border-box;\n  padding-bottom: 0.4em;\n  background-color: var(--sklearn-color-background);\n}\n\n#sk-container-id-1 div.sk-container {\n  /* jupyter's `normalize.less` sets `[hidden] { display: none; }`\n     but bootstrap.min.css set `[hidden] { display: none !important; }`\n     so we also need the `!important` here to be able to override the\n     default hidden behavior on the sphinx rendered scikit-learn.org.\n     See: https://github.com/scikit-learn/scikit-learn/issues/21755 */\n  display: inline-block !important;\n  position: relative;\n}\n\n#sk-container-id-1 div.sk-text-repr-fallback {\n  display: none;\n}\n\ndiv.sk-parallel-item,\ndiv.sk-serial,\ndiv.sk-item {\n  /* draw centered vertical line to link estimators */\n  background-image: linear-gradient(var(--sklearn-color-text-on-default-background), var(--sklearn-color-text-on-default-background));\n  background-size: 2px 100%;\n  background-repeat: no-repeat;\n  background-position: center center;\n}\n\n/* Parallel-specific style estimator block */\n\n#sk-container-id-1 div.sk-parallel-item::after {\n  content: \"\";\n  width: 100%;\n  border-bottom: 2px solid var(--sklearn-color-text-on-default-background);\n  flex-grow: 1;\n}\n\n#sk-container-id-1 div.sk-parallel {\n  display: flex;\n  align-items: stretch;\n  justify-content: center;\n  background-color: var(--sklearn-color-background);\n  position: relative;\n}\n\n#sk-container-id-1 div.sk-parallel-item {\n  display: flex;\n  flex-direction: column;\n}\n\n#sk-container-id-1 div.sk-parallel-item:first-child::after {\n  align-self: flex-end;\n  width: 50%;\n}\n\n#sk-container-id-1 div.sk-parallel-item:last-child::after {\n  align-self: flex-start;\n  width: 50%;\n}\n\n#sk-container-id-1 div.sk-parallel-item:only-child::after {\n  width: 0;\n}\n\n/* Serial-specific style estimator block */\n\n#sk-container-id-1 div.sk-serial {\n  display: flex;\n  flex-direction: column;\n  align-items: center;\n  background-color: var(--sklearn-color-background);\n  padding-right: 1em;\n  padding-left: 1em;\n}\n\n\n/* Toggleable style: style used for estimator/Pipeline/ColumnTransformer box that is\nclickable and can be expanded/collapsed.\n- Pipeline and ColumnTransformer use this feature and define the default style\n- Estimators will overwrite some part of the style using the `sk-estimator` class\n*/\n\n/* Pipeline and ColumnTransformer style (default) */\n\n#sk-container-id-1 div.sk-toggleable {\n  /* Default theme specific background. It is overwritten whether we have a\n  specific estimator or a Pipeline/ColumnTransformer */\n  background-color: var(--sklearn-color-background);\n}\n\n/* Toggleable label */\n#sk-container-id-1 label.sk-toggleable__label {\n  cursor: pointer;\n  display: block;\n  width: 100%;\n  margin-bottom: 0;\n  padding: 0.5em;\n  box-sizing: border-box;\n  text-align: center;\n}\n\n#sk-container-id-1 label.sk-toggleable__label-arrow:before {\n  /* Arrow on the left of the label */\n  content: \"▸\";\n  float: left;\n  margin-right: 0.25em;\n  color: var(--sklearn-color-icon);\n}\n\n#sk-container-id-1 label.sk-toggleable__label-arrow:hover:before {\n  color: var(--sklearn-color-text);\n}\n\n/* Toggleable content - dropdown */\n\n#sk-container-id-1 div.sk-toggleable__content {\n  max-height: 0;\n  max-width: 0;\n  overflow: hidden;\n  text-align: left;\n  /* unfitted */\n  background-color: var(--sklearn-color-unfitted-level-0);\n}\n\n#sk-container-id-1 div.sk-toggleable__content.fitted {\n  /* fitted */\n  background-color: var(--sklearn-color-fitted-level-0);\n}\n\n#sk-container-id-1 div.sk-toggleable__content pre {\n  margin: 0.2em;\n  border-radius: 0.25em;\n  color: var(--sklearn-color-text);\n  /* unfitted */\n  background-color: var(--sklearn-color-unfitted-level-0);\n}\n\n#sk-container-id-1 div.sk-toggleable__content.fitted pre {\n  /* unfitted */\n  background-color: var(--sklearn-color-fitted-level-0);\n}\n\n#sk-container-id-1 input.sk-toggleable__control:checked~div.sk-toggleable__content {\n  /* Expand drop-down */\n  max-height: 200px;\n  max-width: 100%;\n  overflow: auto;\n}\n\n#sk-container-id-1 input.sk-toggleable__control:checked~label.sk-toggleable__label-arrow:before {\n  content: \"▾\";\n}\n\n/* Pipeline/ColumnTransformer-specific style */\n\n#sk-container-id-1 div.sk-label input.sk-toggleable__control:checked~label.sk-toggleable__label {\n  color: var(--sklearn-color-text);\n  background-color: var(--sklearn-color-unfitted-level-2);\n}\n\n#sk-container-id-1 div.sk-label.fitted input.sk-toggleable__control:checked~label.sk-toggleable__label {\n  background-color: var(--sklearn-color-fitted-level-2);\n}\n\n/* Estimator-specific style */\n\n/* Colorize estimator box */\n#sk-container-id-1 div.sk-estimator input.sk-toggleable__control:checked~label.sk-toggleable__label {\n  /* unfitted */\n  background-color: var(--sklearn-color-unfitted-level-2);\n}\n\n#sk-container-id-1 div.sk-estimator.fitted input.sk-toggleable__control:checked~label.sk-toggleable__label {\n  /* fitted */\n  background-color: var(--sklearn-color-fitted-level-2);\n}\n\n#sk-container-id-1 div.sk-label label.sk-toggleable__label,\n#sk-container-id-1 div.sk-label label {\n  /* The background is the default theme color */\n  color: var(--sklearn-color-text-on-default-background);\n}\n\n/* On hover, darken the color of the background */\n#sk-container-id-1 div.sk-label:hover label.sk-toggleable__label {\n  color: var(--sklearn-color-text);\n  background-color: var(--sklearn-color-unfitted-level-2);\n}\n\n/* Label box, darken color on hover, fitted */\n#sk-container-id-1 div.sk-label.fitted:hover label.sk-toggleable__label.fitted {\n  color: var(--sklearn-color-text);\n  background-color: var(--sklearn-color-fitted-level-2);\n}\n\n/* Estimator label */\n\n#sk-container-id-1 div.sk-label label {\n  font-family: monospace;\n  font-weight: bold;\n  display: inline-block;\n  line-height: 1.2em;\n}\n\n#sk-container-id-1 div.sk-label-container {\n  text-align: center;\n}\n\n/* Estimator-specific */\n#sk-container-id-1 div.sk-estimator {\n  font-family: monospace;\n  border: 1px dotted var(--sklearn-color-border-box);\n  border-radius: 0.25em;\n  box-sizing: border-box;\n  margin-bottom: 0.5em;\n  /* unfitted */\n  background-color: var(--sklearn-color-unfitted-level-0);\n}\n\n#sk-container-id-1 div.sk-estimator.fitted {\n  /* fitted */\n  background-color: var(--sklearn-color-fitted-level-0);\n}\n\n/* on hover */\n#sk-container-id-1 div.sk-estimator:hover {\n  /* unfitted */\n  background-color: var(--sklearn-color-unfitted-level-2);\n}\n\n#sk-container-id-1 div.sk-estimator.fitted:hover {\n  /* fitted */\n  background-color: var(--sklearn-color-fitted-level-2);\n}\n\n/* Specification for estimator info (e.g. \"i\" and \"?\") */\n\n/* Common style for \"i\" and \"?\" */\n\n.sk-estimator-doc-link,\na:link.sk-estimator-doc-link,\na:visited.sk-estimator-doc-link {\n  float: right;\n  font-size: smaller;\n  line-height: 1em;\n  font-family: monospace;\n  background-color: var(--sklearn-color-background);\n  border-radius: 1em;\n  height: 1em;\n  width: 1em;\n  text-decoration: none !important;\n  margin-left: 1ex;\n  /* unfitted */\n  border: var(--sklearn-color-unfitted-level-1) 1pt solid;\n  color: var(--sklearn-color-unfitted-level-1);\n}\n\n.sk-estimator-doc-link.fitted,\na:link.sk-estimator-doc-link.fitted,\na:visited.sk-estimator-doc-link.fitted {\n  /* fitted */\n  border: var(--sklearn-color-fitted-level-1) 1pt solid;\n  color: var(--sklearn-color-fitted-level-1);\n}\n\n/* On hover */\ndiv.sk-estimator:hover .sk-estimator-doc-link:hover,\n.sk-estimator-doc-link:hover,\ndiv.sk-label-container:hover .sk-estimator-doc-link:hover,\n.sk-estimator-doc-link:hover {\n  /* unfitted */\n  background-color: var(--sklearn-color-unfitted-level-3);\n  color: var(--sklearn-color-background);\n  text-decoration: none;\n}\n\ndiv.sk-estimator.fitted:hover .sk-estimator-doc-link.fitted:hover,\n.sk-estimator-doc-link.fitted:hover,\ndiv.sk-label-container:hover .sk-estimator-doc-link.fitted:hover,\n.sk-estimator-doc-link.fitted:hover {\n  /* fitted */\n  background-color: var(--sklearn-color-fitted-level-3);\n  color: var(--sklearn-color-background);\n  text-decoration: none;\n}\n\n/* Span, style for the box shown on hovering the info icon */\n.sk-estimator-doc-link span {\n  display: none;\n  z-index: 9999;\n  position: relative;\n  font-weight: normal;\n  right: .2ex;\n  padding: .5ex;\n  margin: .5ex;\n  width: min-content;\n  min-width: 20ex;\n  max-width: 50ex;\n  color: var(--sklearn-color-text);\n  box-shadow: 2pt 2pt 4pt #999;\n  /* unfitted */\n  background: var(--sklearn-color-unfitted-level-0);\n  border: .5pt solid var(--sklearn-color-unfitted-level-3);\n}\n\n.sk-estimator-doc-link.fitted span {\n  /* fitted */\n  background: var(--sklearn-color-fitted-level-0);\n  border: var(--sklearn-color-fitted-level-3);\n}\n\n.sk-estimator-doc-link:hover span {\n  display: block;\n}\n\n/* \"?\"-specific style due to the `<a>` HTML tag */\n\n#sk-container-id-1 a.estimator_doc_link {\n  float: right;\n  font-size: 1rem;\n  line-height: 1em;\n  font-family: monospace;\n  background-color: var(--sklearn-color-background);\n  border-radius: 1rem;\n  height: 1rem;\n  width: 1rem;\n  text-decoration: none;\n  /* unfitted */\n  color: var(--sklearn-color-unfitted-level-1);\n  border: var(--sklearn-color-unfitted-level-1) 1pt solid;\n}\n\n#sk-container-id-1 a.estimator_doc_link.fitted {\n  /* fitted */\n  border: var(--sklearn-color-fitted-level-1) 1pt solid;\n  color: var(--sklearn-color-fitted-level-1);\n}\n\n/* On hover */\n#sk-container-id-1 a.estimator_doc_link:hover {\n  /* unfitted */\n  background-color: var(--sklearn-color-unfitted-level-3);\n  color: var(--sklearn-color-background);\n  text-decoration: none;\n}\n\n#sk-container-id-1 a.estimator_doc_link.fitted:hover {\n  /* fitted */\n  background-color: var(--sklearn-color-fitted-level-3);\n}\n</style><div id=\"sk-container-id-1\" class=\"sk-top-container\"><div class=\"sk-text-repr-fallback\"><pre>LinearRegression()</pre><b>In a Jupyter environment, please rerun this cell to show the HTML representation or trust the notebook. <br />On GitHub, the HTML representation is unable to render, please try loading this page with nbviewer.org.</b></div><div class=\"sk-container\" hidden><div class=\"sk-item\"><div class=\"sk-estimator fitted sk-toggleable\"><input class=\"sk-toggleable__control sk-hidden--visually\" id=\"sk-estimator-id-1\" type=\"checkbox\" checked><label for=\"sk-estimator-id-1\" class=\"sk-toggleable__label fitted sk-toggleable__label-arrow fitted\">&nbsp;&nbsp;LinearRegression<a class=\"sk-estimator-doc-link fitted\" rel=\"noreferrer\" target=\"_blank\" href=\"https://scikit-learn.org/1.4/modules/generated/sklearn.linear_model.LinearRegression.html\">?<span>Documentation for LinearRegression</span></a><span class=\"sk-estimator-doc-link fitted\">i<span>Fitted</span></span></label><div class=\"sk-toggleable__content fitted\"><pre>LinearRegression()</pre></div> </div></div></div></div>"
     },
     "execution_count": 26,
     "metadata": {},
     "output_type": "execute_result"
    }
   ],
   "source": [
    "# Model building\n",
    "model = LinearRegression()\n",
    "model.fit(X_train_scaled, y_train)"
   ],
   "metadata": {
    "collapsed": false,
    "ExecuteTime": {
     "end_time": "2024-05-11T18:19:28.422632500Z",
     "start_time": "2024-05-11T18:19:28.120549700Z"
    }
   }
  },
  {
   "cell_type": "code",
   "execution_count": 27,
   "outputs": [],
   "source": [
    "import numpy as np\n",
    "# Predictions and evaluation\n",
    "y_pred = model.predict(X_test_scaled)\n",
    "mse = mean_squared_error(y_test, y_pred)\n",
    "rmse = np.sqrt(mse)"
   ],
   "metadata": {
    "collapsed": false,
    "ExecuteTime": {
     "end_time": "2024-05-11T18:19:33.983969600Z",
     "start_time": "2024-05-11T18:19:33.942211100Z"
    }
   }
  },
  {
   "cell_type": "code",
   "execution_count": 28,
   "outputs": [
    {
     "data": {
      "text/plain": "1.422964597085276"
     },
     "execution_count": 28,
     "metadata": {},
     "output_type": "execute_result"
    }
   ],
   "source": [
    "rmse"
   ],
   "metadata": {
    "collapsed": false,
    "ExecuteTime": {
     "end_time": "2024-05-11T18:19:35.780597200Z",
     "start_time": "2024-05-11T18:19:35.764971200Z"
    }
   }
  },
  {
   "cell_type": "code",
   "execution_count": null,
   "outputs": [],
   "source": [],
   "metadata": {
    "collapsed": false
   }
  }
 ]
}
